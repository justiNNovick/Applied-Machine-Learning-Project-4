{
  "nbformat": 4,
  "nbformat_minor": 0,
  "metadata": {
    "colab": {
      "provenance": [],
      "collapsed_sections": [
        "9QjossAh1FjG",
        "zlVVG9V21Psi",
        "Uowg2aWD2h0p",
        "mk_OyZue0ccm",
        "eTEpOG-f4e9i",
        "iqRKuq384neV",
        "lWLoL-124qtX",
        "xOtM9y4W2Pc-",
        "EBltzHw3zwJd"
      ],
      "gpuType": "V100",
      "machine_shape": "hm"
    },
    "kernelspec": {
      "name": "python3",
      "display_name": "Python 3"
    },
    "language_info": {
      "name": "python"
    },
    "accelerator": "GPU"
  },
  "cells": [
    {
      "cell_type": "markdown",
      "source": [
        "# Import necessary libraries"
      ],
      "metadata": {
        "id": "tpNCcEC536-f"
      }
    },
    {
      "cell_type": "code",
      "source": [
        "!pip install ucimlrepo\n",
        "!pip install category_encoders"
      ],
      "metadata": {
        "colab": {
          "base_uri": "https://localhost:8080/"
        },
        "id": "jvXdi-wuTQ4o",
        "outputId": "ff7bd1c1-91c7-478a-a9a1-c4218ca0b75c"
      },
      "execution_count": null,
      "outputs": [
        {
          "output_type": "stream",
          "name": "stdout",
          "text": [
            "Collecting ucimlrepo\n",
            "  Downloading ucimlrepo-0.0.3-py3-none-any.whl (7.0 kB)\n",
            "Installing collected packages: ucimlrepo\n",
            "Successfully installed ucimlrepo-0.0.3\n",
            "Collecting category_encoders\n",
            "  Downloading category_encoders-2.6.3-py2.py3-none-any.whl (81 kB)\n",
            "\u001b[2K     \u001b[90m━━━━━━━━━━━━━━━━━━━━━━━━━━━━━━━━━━━━━━━━\u001b[0m \u001b[32m81.9/81.9 kB\u001b[0m \u001b[31m2.5 MB/s\u001b[0m eta \u001b[36m0:00:00\u001b[0m\n",
            "\u001b[?25hRequirement already satisfied: numpy>=1.14.0 in /usr/local/lib/python3.10/dist-packages (from category_encoders) (1.23.5)\n",
            "Requirement already satisfied: scikit-learn>=0.20.0 in /usr/local/lib/python3.10/dist-packages (from category_encoders) (1.2.2)\n",
            "Requirement already satisfied: scipy>=1.0.0 in /usr/local/lib/python3.10/dist-packages (from category_encoders) (1.11.4)\n",
            "Requirement already satisfied: statsmodels>=0.9.0 in /usr/local/lib/python3.10/dist-packages (from category_encoders) (0.14.0)\n",
            "Requirement already satisfied: pandas>=1.0.5 in /usr/local/lib/python3.10/dist-packages (from category_encoders) (1.5.3)\n",
            "Requirement already satisfied: patsy>=0.5.1 in /usr/local/lib/python3.10/dist-packages (from category_encoders) (0.5.3)\n",
            "Requirement already satisfied: python-dateutil>=2.8.1 in /usr/local/lib/python3.10/dist-packages (from pandas>=1.0.5->category_encoders) (2.8.2)\n",
            "Requirement already satisfied: pytz>=2020.1 in /usr/local/lib/python3.10/dist-packages (from pandas>=1.0.5->category_encoders) (2023.3.post1)\n",
            "Requirement already satisfied: six in /usr/local/lib/python3.10/dist-packages (from patsy>=0.5.1->category_encoders) (1.16.0)\n",
            "Requirement already satisfied: joblib>=1.1.1 in /usr/local/lib/python3.10/dist-packages (from scikit-learn>=0.20.0->category_encoders) (1.3.2)\n",
            "Requirement already satisfied: threadpoolctl>=2.0.0 in /usr/local/lib/python3.10/dist-packages (from scikit-learn>=0.20.0->category_encoders) (3.2.0)\n",
            "Requirement already satisfied: packaging>=21.3 in /usr/local/lib/python3.10/dist-packages (from statsmodels>=0.9.0->category_encoders) (23.2)\n",
            "Installing collected packages: category_encoders\n",
            "Successfully installed category_encoders-2.6.3\n"
          ]
        }
      ]
    },
    {
      "cell_type": "code",
      "source": [
        "import numpy as np\n",
        "import pandas as pd\n",
        "import tensorflow as tf\n",
        "import tensorflow.compat.v1 as tf1\n",
        "import torch\n",
        "import matplotlib.pyplot as plt\n",
        "import category_encoders as ce\n",
        "import random\n",
        "\n",
        "from sklearn import tree\n",
        "from sklearn.model_selection import train_test_split\n",
        "from sklearn.preprocessing import LabelEncoder\n",
        "from sklearn.preprocessing import OneHotEncoder\n",
        "from sklearn.preprocessing import StandardScaler\n",
        "from sklearn.tree import DecisionTreeClassifier\n",
        "from sklearn.metrics import accuracy_score\n",
        "from sklearn.compose import ColumnTransformer\n",
        "from sklearn.datasets import load_iris\n",
        "from tensorflow.keras.layers import Dense\n",
        "from tensorflow.keras.models import Sequential\n",
        "from tensorflow.keras.utils import to_categorical\n",
        "from ucimlrepo import fetch_ucirepo\n",
        "from functools import reduce\n",
        "from torch import nn # should this be the nn for the dndt\n",
        "\n",
        "%matplotlib inline\n",
        "tf1.disable_v2_behavior()"
      ],
      "metadata": {
        "id": "N7Cz0ozXTO0U",
        "colab": {
          "base_uri": "https://localhost:8080/"
        },
        "outputId": "32f98d4f-2213-405e-eb2e-3bef68199141"
      },
      "execution_count": null,
      "outputs": [
        {
          "output_type": "stream",
          "name": "stderr",
          "text": [
            "WARNING:tensorflow:From /usr/local/lib/python3.10/dist-packages/tensorflow/python/compat/v2_compat.py:108: disable_resource_variables (from tensorflow.python.ops.variable_scope) is deprecated and will be removed in a future version.\n",
            "Instructions for updating:\n",
            "non-resource variables are not supported in the long term\n"
          ]
        }
      ]
    },
    {
      "cell_type": "markdown",
      "source": [
        "# Compare results of DNDT to NN and DT"
      ],
      "metadata": {
        "id": "oehzbnTtVE0X"
      }
    },
    {
      "cell_type": "markdown",
      "source": [
        "## Define Deep Neural Decision Tree Functions\n",
        "Provided by paper being reproduced."
      ],
      "metadata": {
        "id": "2VJL6oeuGS4h"
      }
    },
    {
      "cell_type": "code",
      "source": [
        "def tf_kron_prod(a, b):\n",
        "    res = tf.einsum('ij,ik->ijk', a, b)\n",
        "    res = tf.reshape(res, [-1, tf.reduce_prod(res.shape[1:])])\n",
        "    return res\n",
        "\n",
        "\n",
        "def tf_bin(x, cut_points, temperature=0.1):\n",
        "    # x is a N-by-1 matrix (column vector)\n",
        "    # cut_points is a D-dim vector (D is the number of cut-points)\n",
        "    # this function produces a N-by-(D+1) matrix, each row has only one element being one and the rest are all zeros\n",
        "    D = cut_points.get_shape().as_list()[0]\n",
        "    W = tf.reshape(tf.linspace(1.0, D + 1.0, D + 1), [1, -1])\n",
        "    cut_points = tf.sort(cut_points)  # make sure cut_points is monotonically increasing\n",
        "    b = tf.cumsum(tf.concat([tf.constant(0.0, shape=[1]), -cut_points], 0))\n",
        "    h = tf.matmul(x, W) + b\n",
        "    res = tf.nn.softmax(h / temperature)\n",
        "    return res\n",
        "\n",
        "\n",
        "def nn_decision_tree(x, cut_points_list, leaf_score, temperature=0.1):\n",
        "    # cut_points_list contains the cut_points for each dimension of feature\n",
        "    leaf = reduce(tf_kron_prod,\n",
        "                  map(lambda z: tf_bin(x[:, z[0]:z[0] + 1], z[1], temperature), enumerate(cut_points_list)))\n",
        "    return tf.matmul(leaf, leaf_score)"
      ],
      "metadata": {
        "id": "7wH2kinuGWdg"
      },
      "execution_count": null,
      "outputs": []
    },
    {
      "cell_type": "markdown",
      "source": [
        "##Dataset 1: Haberman's Dataset"
      ],
      "metadata": {
        "id": "9p09sO_t2NWg"
      }
    },
    {
      "cell_type": "markdown",
      "source": [
        "Load data, extract features and labels, then split into train and test sets."
      ],
      "metadata": {
        "id": "JBU5Smigxru_"
      }
    },
    {
      "cell_type": "code",
      "source": [
        "url = 'https://archive.ics.uci.edu/ml/machine-learning-databases/haberman/haberman.data'\n",
        "data = pd.read_csv(url, header=None)\n",
        "\n",
        "# Optionally, add column names for readability\n",
        "data.columns = ['Age', 'Year', 'Nodes', 'Survival_Status']\n",
        "X = data.iloc[:, :-1].values\n",
        "y = data.iloc[:, -1].values\n",
        "\n",
        "# Split the dataset into training and test sets\n",
        "X_train, X_test, y_train, y_test = train_test_split(X, y, test_size=0.2, random_state=42)\n",
        "\n",
        "# Scale the features\n",
        "scaler = StandardScaler()\n",
        "X_train = scaler.fit_transform(X_train)\n",
        "X_test = scaler.transform(X_test)"
      ],
      "metadata": {
        "id": "pCRUAPgW2Wh6"
      },
      "execution_count": null,
      "outputs": []
    },
    {
      "cell_type": "markdown",
      "source": [
        "### Decision Tree\n",
        "Target to reproduce: 66.1%."
      ],
      "metadata": {
        "id": "hs7qYpMsyS-G"
      }
    },
    {
      "cell_type": "code",
      "source": [
        "# Create and train the Decision Tree model\n",
        "dt_model = DecisionTreeClassifier(criterion='gini', splitter='best', random_state=26)\n",
        "dt_model.fit(X_train, y_train)\n",
        "\n",
        "# Evaluate the model\n",
        "dt_predictions = dt_model.predict(X_test)\n",
        "accuracy = accuracy_score(y_test, dt_predictions)\n",
        "dt_habermans = round(accuracy*100, 1)\n",
        "\n",
        "print(\"Haberman's Survival Decision Tree Accuracy:\")\n",
        "print(\"  Target:  \", 66.1)\n",
        "print(\"  Achieved:\", dt_habermans)"
      ],
      "metadata": {
        "id": "9mdOcDob2WCM",
        "colab": {
          "base_uri": "https://localhost:8080/"
        },
        "outputId": "6a6bb972-b07f-4005-edf1-81ae54aded4d"
      },
      "execution_count": null,
      "outputs": [
        {
          "output_type": "stream",
          "name": "stdout",
          "text": [
            "Haberman's Survival Decision Tree Accuracy:\n",
            "  Target:   66.1\n",
            "  Achieved: 66.1\n"
          ]
        }
      ]
    },
    {
      "cell_type": "markdown",
      "source": [
        "### Neural Network\n",
        "Target to reproduce: 70.9%."
      ],
      "metadata": {
        "id": "BJ7lmntqyVm2"
      }
    },
    {
      "cell_type": "code",
      "execution_count": null,
      "metadata": {
        "id": "b6I1ovmP0pvJ",
        "colab": {
          "base_uri": "https://localhost:8080/"
        },
        "outputId": "31c428a1-d6a6-4728-a190-2ad8cbb16bc7"
      },
      "outputs": [
        {
          "output_type": "stream",
          "name": "stdout",
          "text": [
            "Haberman's Survival Neural Network Accuracy:\n",
            "  Target:   70.9\n",
            "  Achieved: 71.0\n"
          ]
        },
        {
          "output_type": "stream",
          "name": "stderr",
          "text": [
            "/usr/local/lib/python3.10/dist-packages/keras/src/engine/training_v1.py:2359: UserWarning: `Model.state_updates` will be removed in a future version. This property should not be used in TensorFlow 2.0, as `updates` are applied automatically.\n",
            "  updates=self.state_updates,\n"
          ]
        }
      ],
      "source": [
        "def create_nn_model(input_shape):\n",
        "    model = Sequential([\n",
        "        Dense(50, activation='relu', input_shape=input_shape),\n",
        "        Dense(50, activation='relu'),\n",
        "        Dense(1, activation='softmax')  # Binary classification\n",
        "    ])\n",
        "    model.compile(optimizer='adam', loss='binary_crossentropy', metrics=['accuracy'])\n",
        "    return model\n",
        "\n",
        "# Preparing the data\n",
        "input_shape = (X_train.shape[1],)\n",
        "nn_model_tf = create_nn_model(input_shape)\n",
        "\n",
        "# Training the model\n",
        "nn_model_tf.fit(X_train, y_train, epochs=1000, batch_size=10, verbose=0)\n",
        "\n",
        "# Evaluating the model\n",
        "nn_predictions_tf = nn_model_tf.predict(X_test)\n",
        "nn_predictions_tf = [1 if pred > 0.5 else 0 for pred in nn_predictions_tf]\n",
        "accuracy = accuracy_score(y_test, nn_predictions_tf)\n",
        "nn_habermans = round(accuracy*100, 1)\n",
        "\n",
        "print(\"Haberman's Survival Neural Network Accuracy:\")\n",
        "print(\"  Target:  \", 70.9)\n",
        "print(\"  Achieved:\", nn_habermans)"
      ]
    },
    {
      "cell_type": "markdown",
      "source": [
        "### Deep Neural Decision Tree\n",
        "Target to reproduce: 70.9%."
      ],
      "metadata": {
        "id": "Vt1bcN1cyhEa"
      }
    },
    {
      "cell_type": "code",
      "source": [
        "url = 'https://archive.ics.uci.edu/ml/machine-learning-databases/haberman/haberman.data'\n",
        "columns = ['Age', 'Year', 'Nodes', 'SurvivalStatus']\n",
        "data = pd.read_csv(url, header=None, names=columns)\n",
        "\n",
        "# The 'SurvivalStatus' column is '1' for patients who survived 5 years or longer and '2' for those who didn't.\n",
        "# Convert this to a binary classification problem: '0' for 'did not survive' and '1' for 'survived'\n",
        "data['SurvivalStatus'] = data['SurvivalStatus'].map({1: 0, 2: 1})\n",
        "\n",
        "# Separate features and target variable\n",
        "X = data.drop('SurvivalStatus', axis=1).values\n",
        "y = data['SurvivalStatus'].values\n",
        "\n",
        "# Normalize features\n",
        "scaler = StandardScaler()\n",
        "X_scaled = scaler.fit_transform(X)\n",
        "\n",
        "# Convert labels to one-hot encoding\n",
        "encoder = OneHotEncoder(sparse_output=False)\n",
        "y_one_hot = encoder.fit_transform(y.reshape(-1, 1))\n",
        "\n",
        "\n",
        "np.random.seed(1943)\n",
        "tf1.set_random_seed(1943)\n",
        "\n",
        "d = X_scaled.shape[1]  # Number of features\n",
        "num_cut = [1, 1, 1]    # Number of cut points for each feature\n",
        "num_leaf = np.prod(np.array(num_cut) + 1)\n",
        "num_class = 2          # Binary classification\n",
        "\n",
        "sess = tf1.InteractiveSession()\n",
        "\n",
        "x_ph = tf1.placeholder(tf1.float32, [None, d])\n",
        "y_ph = tf1.placeholder(tf1.float32, [None, num_class])\n",
        "\n",
        "cut_points_list = [tf1.Variable(tf1.random_uniform([i])) for i in num_cut]\n",
        "leaf_score = tf1.Variable(tf1.random_uniform([num_leaf, num_class]))\n",
        "\n",
        "y_pred = nn_decision_tree(x_ph, cut_points_list, leaf_score, temperature=0.1)\n",
        "loss = tf1.reduce_mean(tf1.losses.softmax_cross_entropy(logits=y_pred, onehot_labels=y_ph))\n",
        "opt = tf1.train.AdamOptimizer(0.1)\n",
        "train_step = opt.minimize(loss)\n",
        "\n",
        "sess.run(tf1.global_variables_initializer())\n",
        "\n",
        "for i in range(1000):\n",
        "    _, loss_val = sess.run([train_step, loss], feed_dict={x_ph: X_scaled, y_ph: y_one_hot})\n",
        "    if i % 100 == 0 and False:\n",
        "        print(\"Loss at step {}: {}\".format(i, loss_val))\n",
        "\n",
        "accuracy = np.mean(np.argmax(y_pred.eval(feed_dict={x_ph: X_scaled}), axis=1) == np.argmax(y_one_hot, axis=1))\n",
        "dndt_habermans = round(accuracy*100, 1)\n",
        "\n",
        "print(\"Haberman's Survival Deep Neural Decision Tree Accuracy:\")\n",
        "print(\"  Target:  \", 70.9)\n",
        "print(\"  Achieved:\", dndt_habermans)"
      ],
      "metadata": {
        "colab": {
          "base_uri": "https://localhost:8080/"
        },
        "id": "93MFXs2XoZqp",
        "outputId": "ddaf0d6f-e241-4d14-8931-3c31f0389e20"
      },
      "execution_count": null,
      "outputs": [
        {
          "output_type": "stream",
          "name": "stderr",
          "text": [
            "/usr/local/lib/python3.10/dist-packages/tensorflow/python/client/session.py:1793: UserWarning: An interactive session is already active. This can cause out-of-memory errors in some cases. You must explicitly call `InteractiveSession.close()` to release resources held by the other session(s).\n",
            "  warnings.warn('An interactive session is already active. This can '\n"
          ]
        },
        {
          "output_type": "stream",
          "name": "stdout",
          "text": [
            "Haberman's Survival Deep Neural Decision Tree Accuracy:\n",
            "  Target:   70.9\n",
            "  Achieved: 78.1\n"
          ]
        }
      ]
    },
    {
      "cell_type": "markdown",
      "source": [
        "###Compare results from all models"
      ],
      "metadata": {
        "id": "MIT_JvdBJHMn"
      }
    },
    {
      "cell_type": "code",
      "source": [
        "print(\"                    \", \"DNDT\", \" DT \", \" NN\")\n",
        "print(\"Target Accuracies:  \", 70.9, 66.1, 70.9)\n",
        "print(\"Achieved Accuracies:\", dndt_habermans, dt_habermans, nn_habermans)"
      ],
      "metadata": {
        "colab": {
          "base_uri": "https://localhost:8080/"
        },
        "id": "tz8nRHL9JG2v",
        "outputId": "332b41c7-41f5-4e4b-8923-0286c007233b"
      },
      "execution_count": null,
      "outputs": [
        {
          "output_type": "stream",
          "name": "stdout",
          "text": [
            "                     DNDT  DT   NN\n",
            "Target Accuracies:   70.9 66.1 70.9\n",
            "Achieved Accuracies: 78.1 66.1 71.0\n"
          ]
        }
      ]
    },
    {
      "cell_type": "markdown",
      "source": [
        "### Analysis Haberman's Active Cut Points"
      ],
      "metadata": {
        "id": "ZvGWZaVFoPXu"
      }
    },
    {
      "cell_type": "code",
      "source": [
        "#Test Code here\n",
        "@tf.function\n",
        "def tf_kron_prod(a, b):\n",
        "    res = tf.einsum('ij,ik->ijk', a, b)\n",
        "    res = tf.reshape(res, [-1, tf.reduce_prod(res.shape[1:])])\n",
        "    return res\n",
        "\n",
        "@tf.function\n",
        "def tf_bin(x, cut_points, temperature=0.1):\n",
        "    D = cut_points.get_shape().as_list()[0]\n",
        "    W = tf.reshape(tf.linspace(1.0, D + 1.0, D + 1), [1, -1])\n",
        "    cut_points = tf.sort(cut_points)\n",
        "    b = tf.cumsum(tf.concat([tf.constant(0.0, shape=[1]), -cut_points], 0))\n",
        "    h = tf.matmul(x, W) + b\n",
        "    res = tf.nn.softmax(h / temperature)\n",
        "    return res\n",
        "\n",
        "@tf.function\n",
        "def active_cut_points(x, cut_points_list, temperature=0.1):\n",
        "    active_points = []\n",
        "\n",
        "    for i, cut_points in enumerate(cut_points_list):\n",
        "        bin_result = tf_bin(x[:, i:i+1], cut_points, temperature)\n",
        "\n",
        "        # Check if at least one instance falls on each side of the cut point\n",
        "        left_count = tf.reduce_sum(tf.cast(tf.math.greater(bin_result[:, :-1], 0.5), tf.float32))\n",
        "        right_count = tf.reduce_sum(tf.cast(tf.math.greater(bin_result[:, 1:], 0.5), tf.float32))\n",
        "\n",
        "        # Use tf.reduce_all to operate within the TensorFlow graph\n",
        "        is_active = tf.reduce_all([left_count > 0, right_count > 0])\n",
        "\n",
        "        if is_active:\n",
        "            active_points.append((i, cut_points))\n",
        "\n",
        "    return active_points\n",
        "\n",
        "@tf.function\n",
        "def nn_decision_tree(x, cut_points_list, leaf_score, temperature=0.1):\n",
        "    active_points = active_cut_points(x, cut_points_list, temperature)\n",
        "\n",
        "    # # Print or use active_points as needed\n",
        "    # print(\"Active Cut Points:\", active_points)\n",
        "\n",
        "    leaf = reduce(tf_kron_prod,\n",
        "                  map(lambda z: tf_bin(x[:, z[0]:z[0] + 1], z[1], temperature), active_points))\n",
        "    return tf.matmul(leaf, leaf_score)\n",
        "\n",
        "# Load and preprocess the dataset\n",
        "url = 'https://archive.ics.uci.edu/ml/machine-learning-databases/haberman/haberman.data'\n",
        "columns = ['Age', 'Year', 'Nodes', 'SurvivalStatus']\n",
        "data = pd.read_csv(url, header=None, names=columns)\n",
        "\n",
        "# The 'SurvivalStatus' column is '1' for patients who survived 5 years or longer and '2' for those who didn't.\n",
        "# Convert this to a binary classification problem: '0' for 'did not survive' and '1' for 'survived'\n",
        "data['SurvivalStatus'] = data['SurvivalStatus'].map({1: 0, 2: 1})\n",
        "\n",
        "# Separate features and target variable\n",
        "X = data.drop('SurvivalStatus', axis=1).values\n",
        "y = data['SurvivalStatus'].values\n",
        "\n",
        "# Normalize features\n",
        "scaler = StandardScaler()\n",
        "X_scaled = scaler.fit_transform(X)\n",
        "\n",
        "# Convert labels to one-hot encoding\n",
        "encoder = OneHotEncoder(sparse_output=False)\n",
        "y_one_hot = encoder.fit_transform(y.reshape(-1, 1))\n",
        "\n",
        "np.random.seed(1943)\n",
        "tf.random.set_seed(1943)\n",
        "\n",
        "perc_active_cut_list = []\n",
        "num_cut_list = [[1,1,1],[2,2,2],[3,3,3], [4,4,4], [5,5,5]]\n",
        "\n",
        "for num_cut in num_cut_list:\n",
        "  d = X_scaled.shape[1]  # Number of features\n",
        "  num_cut = num_cut    # Number of cut points for each feature\n",
        "  num_leaf = np.prod(np.array(num_cut) + 1)\n",
        "  num_class = 2          # Binary classification\n",
        "\n",
        "  # Create TensorFlow session\n",
        "  sess = tf.compat.v1.InteractiveSession()\n",
        "\n",
        "  # Define placeholders and variables\n",
        "  x_ph = tf.compat.v1.placeholder(tf.float32, [None, d])\n",
        "  y_ph = tf.compat.v1.placeholder(tf.float32, [None, num_class])\n",
        "\n",
        "  cut_points_list = [tf.compat.v1.Variable(tf.random.uniform([i])) for i in num_cut]\n",
        "  leaf_score = tf.compat.v1.Variable(tf.random.uniform([num_leaf, num_class]))\n",
        "\n",
        "  # Define the neural decision tree model\n",
        "  y_pred = nn_decision_tree(x_ph, cut_points_list, leaf_score, temperature=0.1)\n",
        "\n",
        "  # Define loss and optimizer\n",
        "  loss = tf.reduce_mean(tf.nn.softmax_cross_entropy_with_logits(logits=y_pred, labels=y_ph))\n",
        "  opt = tf.compat.v1.train.AdamOptimizer(0.1)\n",
        "  train_step = opt.minimize(loss)\n",
        "\n",
        "  # Initialize variables\n",
        "  sess.run(tf.compat.v1.global_variables_initializer())\n",
        "\n",
        "  # Training loop\n",
        "  for i in range(1000):\n",
        "      _, loss_val = sess.run([train_step, loss], feed_dict={x_ph: X_scaled, y_ph: y_one_hot})\n",
        "      #if i % 100 == 0:\n",
        "          #print(\"Loss at step {}: {}\".format(i, loss_val))\n",
        "\n",
        "  # Evaluate the percentage of active cut points\n",
        "  percentage_active_cut_points = sess.run(active_cut_points(x_ph, cut_points_list, temperature=0.1), feed_dict={x_ph: X_scaled})\n",
        "  total_cut_points = X_scaled.shape[1] * sum(num_cut)\n",
        "  percentage_active_cut_points = len(percentage_active_cut_points) / total_cut_points * 100\n",
        "\n",
        "  #Appending the cut_points to the list\n",
        "  perc_active_cut_list.append(round(percentage_active_cut_points, 2))\n",
        "\n",
        "  print(f\"Percentage of Active Cut Points: {percentage_active_cut_points:.2f}%\")\n",
        "  sess.close\n",
        "perc_active_cut_list"
      ],
      "metadata": {
        "colab": {
          "base_uri": "https://localhost:8080/"
        },
        "id": "crlCII1Em0vQ",
        "outputId": "20b382d9-70f3-442a-a20a-b861590448d7"
      },
      "execution_count": null,
      "outputs": [
        {
          "output_type": "stream",
          "name": "stderr",
          "text": [
            "/usr/local/lib/python3.10/dist-packages/tensorflow/python/client/session.py:1793: UserWarning: An interactive session is already active. This can cause out-of-memory errors in some cases. You must explicitly call `InteractiveSession.close()` to release resources held by the other session(s).\n",
            "  warnings.warn('An interactive session is already active. This can '\n"
          ]
        },
        {
          "output_type": "stream",
          "name": "stdout",
          "text": [
            "Percentage of Active Cut Points: 33.33%\n",
            "Percentage of Active Cut Points: 16.67%\n",
            "Percentage of Active Cut Points: 11.11%\n",
            "Percentage of Active Cut Points: 8.33%\n",
            "Percentage of Active Cut Points: 6.67%\n"
          ]
        },
        {
          "output_type": "execute_result",
          "data": {
            "text/plain": [
              "[33.33, 16.67, 11.11, 8.33, 6.67]"
            ]
          },
          "metadata": {},
          "execution_count": 13
        }
      ]
    },
    {
      "cell_type": "markdown",
      "source": [
        "####Graph plot for Number of active cut points"
      ],
      "metadata": {
        "id": "pnMXIkBmGL43"
      }
    },
    {
      "cell_type": "code",
      "source": [
        "import matplotlib.pyplot as plt\n",
        "# Create x values from 1 to the number of elements in the list\n",
        "x_values = list(range(1, len(perc_active_cut_list) + 1))\n",
        "\n",
        "# Plotting the line graph\n",
        "plt.plot(x_values,perc_active_cut_list, marker='o', linestyle='-', color='blue')\n",
        "\n",
        "# Adding labels and title\n",
        "plt.xlabel('Number of cut points per feature')\n",
        "plt.ylabel('% Used')\n",
        "plt.title('Use of Cut Points for Haberman')\n",
        "\n",
        "# Set background color and grid style\n",
        "plt.gca().set_facecolor('#E0E0E0')  # Light gray background\n",
        "plt.grid(color='white', linestyle='--', linewidth=0.5)\n",
        "\n",
        "# Show the plot\n",
        "plt.show()"
      ],
      "metadata": {
        "colab": {
          "base_uri": "https://localhost:8080/",
          "height": 472
        },
        "outputId": "5b08fb8d-ca97-499d-fb14-25ec33008d15",
        "id": "yX67hQN2GL44"
      },
      "execution_count": null,
      "outputs": [
        {
          "output_type": "display_data",
          "data": {
            "text/plain": [
              "<Figure size 640x480 with 1 Axes>"
            ],
            "image/png": "[encoded data removed]"
          },
          "metadata": {}
        }
      ]
    },
    {
      "cell_type": "markdown",
      "source": [
        "##Dataset 2: Titanic Dataset"
      ],
      "metadata": {
        "id": "T2g8lUgD-V7R"
      }
    },
    {
      "cell_type": "markdown",
      "source": [
        "Load data, extract features and labels, then split into train and test sets."
      ],
      "metadata": {
        "id": "HWl0YDh-4Eun"
      }
    },
    {
      "cell_type": "code",
      "source": [
        "# Load the Titanic dataset\n",
        "titanic_url = 'https://web.stanford.edu/class/archive/cs/cs109/cs109.1166/stuff/titanic.csv'\n",
        "titanic_data = pd.read_csv(titanic_url)\n",
        "\n",
        "# Preprocessing steps\n",
        "titanic_data['Age'].fillna(titanic_data['Age'].median(), inplace=True)\n",
        "titanic_data['Sex'] = titanic_data['Sex'].map({'male': 0, 'female': 1})\n",
        "titanic_data = titanic_data[['Survived', 'Pclass', 'Sex', 'Age', 'Siblings/Spouses Aboard', 'Parents/Children Aboard', 'Fare']]\n",
        "\n",
        "# Define features and target variable\n",
        "X_titanic = titanic_data.iloc[:, 1:].values\n",
        "y_titanic = titanic_data.iloc[:, 0].values\n",
        "\n",
        "# Split the dataset\n",
        "X_train_titanic, X_test_titanic, y_train_titanic, y_test_titanic = train_test_split(X_titanic, y_titanic, test_size=0.2, random_state=42) # was 26\n",
        "\n",
        "# Scale the features\n",
        "scaler_titanic = StandardScaler()\n",
        "X_train_titanic = scaler_titanic.fit_transform(X_train_titanic)\n",
        "X_test_titanic = scaler_titanic.transform(X_test_titanic)"
      ],
      "metadata": {
        "id": "hastAUkI-TUb"
      },
      "execution_count": null,
      "outputs": []
    },
    {
      "cell_type": "markdown",
      "source": [
        "### Decision Tree\n",
        "Target to reproduce: 79.0%."
      ],
      "metadata": {
        "id": "9QjossAh1FjG"
      }
    },
    {
      "cell_type": "code",
      "source": [
        "# Create and train the Decision Tree model\n",
        "dt_model_titanic = DecisionTreeClassifier(criterion='gini', splitter='best', random_state=26)\n",
        "dt_model_titanic.fit(X_train_titanic, y_train_titanic)\n",
        "\n",
        "# Evaluate the model\n",
        "dt_predictions_titanic = dt_model_titanic.predict(X_test_titanic)\n",
        "accuracy = accuracy_score(y_test_titanic, dt_predictions_titanic)\n",
        "dt_titanic = round(accuracy*100, 1)\n",
        "\n",
        "print(\"Titanic Decision Tree Accuracy:\")\n",
        "print(\"  Target:  \", 79.0)\n",
        "print(\"  Achieved:\", dt_titanic)"
      ],
      "metadata": {
        "colab": {
          "base_uri": "https://localhost:8080/"
        },
        "id": "XgNy_Ih-_cmc",
        "outputId": "c503d980-b67d-4339-f0cf-cf7ea9095097"
      },
      "execution_count": null,
      "outputs": [
        {
          "output_type": "stream",
          "name": "stdout",
          "text": [
            "Titanic Decision Tree Accuracy:\n",
            "  Target:   79.0\n",
            "  Achieved: 72.5\n"
          ]
        }
      ]
    },
    {
      "cell_type": "markdown",
      "source": [
        "### Neural Network\n",
        "Target to reproduce: 76.9%."
      ],
      "metadata": {
        "id": "zlVVG9V21Psi"
      }
    },
    {
      "cell_type": "code",
      "source": [
        "# Create tf neural network model\n",
        "def create_nn_model_titanic(input_shape):\n",
        "    model = Sequential([\n",
        "        Dense(50, activation='relu', input_shape=input_shape),\n",
        "        Dense(50, activation='relu'),\n",
        "        Dense(1, activation='sigmoid')  # Binary classification\n",
        "    ])\n",
        "    model.compile(optimizer='adam', loss='binary_crossentropy', metrics=['accuracy'])\n",
        "    return model\n",
        "\n",
        "# Preparing the data\n",
        "input_shape_titanic = (X_train_titanic.shape[1],)\n",
        "nn_model_tf_titanic = create_nn_model_titanic(input_shape_titanic)\n",
        "\n",
        "# Training the model\n",
        "nn_model_tf_titanic.fit(X_train_titanic, y_train_titanic, epochs=100, batch_size=32, verbose=0)\n",
        "\n",
        "# Evaluating the model\n",
        "nn_predictions_tf_titanic = nn_model_tf_titanic.predict(X_test_titanic)\n",
        "nn_predictions_tf_titanic = [1 if pred > 0.5 else 0 for pred in nn_predictions_tf_titanic]\n",
        "accuracy = accuracy_score(y_test_titanic, nn_predictions_tf_titanic)\n",
        "nn_titanic = round(accuracy*100, 1)\n",
        "\n",
        "print(\"Titanic Neural Network Accuracy:\")\n",
        "print(\"  Target:  \", 76.9)\n",
        "print(\"  Achieved:\", nn_titanic)"
      ],
      "metadata": {
        "colab": {
          "base_uri": "https://localhost:8080/"
        },
        "id": "wcRSXju1_dn7",
        "outputId": "2ac01680-9518-46be-8eba-993c1efcb0b3"
      },
      "execution_count": null,
      "outputs": [
        {
          "output_type": "stream",
          "name": "stderr",
          "text": [
            "/usr/local/lib/python3.10/dist-packages/keras/src/engine/training_v1.py:2359: UserWarning: `Model.state_updates` will be removed in a future version. This property should not be used in TensorFlow 2.0, as `updates` are applied automatically.\n",
            "  updates=self.state_updates,\n"
          ]
        },
        {
          "output_type": "stream",
          "name": "stdout",
          "text": [
            "Titanic Neural Network Accuracy:\n",
            "  Target:   76.9\n",
            "  Achieved: 77.5\n"
          ]
        }
      ]
    },
    {
      "cell_type": "markdown",
      "source": [
        "###Deep Neural Decision Tree\n",
        "Target to reproduce: 80.4%."
      ],
      "metadata": {
        "id": "Uowg2aWD2h0p"
      }
    },
    {
      "cell_type": "code",
      "source": [
        "# Define the TensorFlow graph and session\n",
        "sess = tf1.InteractiveSession()\n",
        "\n",
        "# Load the Titanic dataset (assuming you have it as a CSV file)\n",
        "titanic_url = 'https://web.stanford.edu/class/archive/cs/cs109/cs109.1166/stuff/titanic.csv'\n",
        "titanic_data = pd.read_csv(titanic_url)\n",
        "\n",
        "# Check if 'Ticket' and 'Cabin' columns exist before dropping them\n",
        "columns_to_drop = ['Name']\n",
        "if 'Ticket' in titanic_data.columns:\n",
        "    columns_to_drop.append('Ticket')\n",
        "if 'Cabin' in titanic_data.columns:\n",
        "    columns_to_drop.append('Cabin')\n",
        "\n",
        "# Drop the specified columns\n",
        "titanic_data = titanic_data.drop(columns_to_drop, axis=1)\n",
        "\n",
        "# Handle missing values (you can choose a different strategy if needed)\n",
        "titanic_data = titanic_data.dropna()\n",
        "\n",
        "# Convert categorical columns (e.g., 'Sex', 'Embarked') to one-hot encoding\n",
        "titanic_data = pd.get_dummies(titanic_data, columns=['Sex'], drop_first=True)\n",
        "\n",
        "# Separate features and target variable\n",
        "X = titanic_data.drop('Survived', axis=1).values\n",
        "y = titanic_data['Survived'].values\n",
        "\n",
        "# Normalize features\n",
        "scaler = StandardScaler()\n",
        "X_scaled = scaler.fit_transform(X)\n",
        "\n",
        "# Split the data into training and testing sets\n",
        "X_train, X_test, y_train, y_test = train_test_split(X_scaled, y, test_size=0.2, random_state=42)\n",
        "\n",
        "\n",
        "# Set random seeds for reproducibility\n",
        "np.random.seed(1943)\n",
        "tf1.set_random_seed(1943)\n",
        "\n",
        "# Define placeholders for input and output\n",
        "num_features = X_train.shape[1]\n",
        "x_ph = tf1.placeholder(tf1.float32, [None, num_features])\n",
        "y_ph = tf1.placeholder(tf1.float32, [None])\n",
        "\n",
        "# Define DNDT hyperparameters\n",
        "num_cut = [1] * num_features  # Adjust as needed\n",
        "num_classes = 2  # Binary classification\n",
        "\n",
        "# Define variables for cut points and leaf scores\n",
        "cut_points_list = [tf1.Variable(tf1.random_uniform([i])) for i in num_cut]\n",
        "\n",
        "# Calculate the number of leaf nodes based on the number of cut points\n",
        "num_leaf = np.prod(np.array(num_cut) + 1)\n",
        "\n",
        "# Define the shape of leaf_score based on the number of classes and leaf nodes\n",
        "leaf_score = tf1.Variable(tf1.random_uniform([num_leaf, num_classes]))\n",
        "\n",
        "# Build the DNDT model\n",
        "y_pred = nn_decision_tree(x_ph, cut_points_list, leaf_score, temperature=0.1)\n",
        "\n",
        "\n",
        "# Define loss and optimizer\n",
        "loss = tf1.reduce_mean(tf1.losses.sparse_softmax_cross_entropy(labels=tf1.cast(y_ph, dtype=tf1.int32), logits=y_pred))\n",
        "opt = tf1.train.AdamOptimizer(0.1)\n",
        "train_step = opt.minimize(loss)\n",
        "\n",
        "# Initialize variables\n",
        "sess.run(tf1.global_variables_initializer())\n",
        "\n",
        "# Train the model\n",
        "for i in range(1000):\n",
        "    _, loss_val = sess.run([train_step, loss], feed_dict={x_ph: X_train, y_ph: y_train})\n",
        "    if i % 100 == 0 and False:\n",
        "        print(\"Loss at step {}: {:.4f}\".format(i, loss_val))\n",
        "\n",
        "# Evaluate the model\n",
        "accuracy = tf1.reduce_mean(tf1.cast(tf1.equal(tf1.argmax(y_pred, 1), tf1.cast(y_ph, dtype=tf1.int64)), tf1.float32))\n",
        "test_accuracy = sess.run(accuracy, feed_dict={x_ph: X_test, y_ph: y_test})\n",
        "dndt_titanic = round(test_accuracy*100, 1)\n",
        "\n",
        "print(\"Titanic Deep Neural Decision Tree Accuracy:\")\n",
        "print(\"  Target:  \", 80.4)\n",
        "print(\"  Achieved:\", dndt_titanic)\n",
        "\n",
        "sess.close() # close InteractiveSession"
      ],
      "metadata": {
        "colab": {
          "base_uri": "https://localhost:8080/"
        },
        "id": "ACVKa9N4URPL",
        "outputId": "14c5f96f-2997-4c33-c43f-00e3068e9049"
      },
      "execution_count": null,
      "outputs": [
        {
          "output_type": "stream",
          "name": "stderr",
          "text": [
            "/usr/local/lib/python3.10/dist-packages/tensorflow/python/client/session.py:1793: UserWarning: An interactive session is already active. This can cause out-of-memory errors in some cases. You must explicitly call `InteractiveSession.close()` to release resources held by the other session(s).\n",
            "  warnings.warn('An interactive session is already active. This can '\n"
          ]
        },
        {
          "output_type": "stream",
          "name": "stdout",
          "text": [
            "Titanic Deep Neural Decision Tree Accuracy:\n",
            "  Target:   80.4\n",
            "  Achieved: 75.8\n"
          ]
        }
      ]
    },
    {
      "cell_type": "markdown",
      "source": [
        "###Compare results from all models"
      ],
      "metadata": {
        "id": "OO_2DMJRKSWg"
      }
    },
    {
      "cell_type": "code",
      "source": [
        "print(\"                    \", \"DNDT\", \" DT \", \" NN\")\n",
        "print(\"Target Accuracies:  \", 80.4, 79.0, 76.9)\n",
        "print(\"Achieved Accuracies:\", dndt_titanic, dt_titanic, nn_titanic)"
      ],
      "metadata": {
        "colab": {
          "base_uri": "https://localhost:8080/"
        },
        "id": "3XLXuzRbkPAL",
        "outputId": "a84e7c77-0a10-4963-ed36-7e0d7915854a"
      },
      "execution_count": null,
      "outputs": [
        {
          "output_type": "stream",
          "name": "stdout",
          "text": [
            "                     DNDT  DT   NN\n",
            "Target Accuracies:   80.4 79.0 76.9\n",
            "Achieved Accuracies: 75.8 72.5 77.5\n"
          ]
        }
      ]
    },
    {
      "cell_type": "markdown",
      "source": [
        "## Dataset 3: Pima Dataset"
      ],
      "metadata": {
        "id": "mk_OyZue0ccm"
      }
    },
    {
      "cell_type": "markdown",
      "source": [
        "Load data, extract features and labels, then split into train and test sets."
      ],
      "metadata": {
        "id": "hxtcUitq4Gnu"
      }
    },
    {
      "cell_type": "code",
      "source": [
        "# Load the dataset from a public URL\n",
        "url = 'https://raw.githubusercontent.com/jbrownlee/Datasets/master/pima-indians-diabetes.data.csv'\n",
        "column_names = ['Pregnancies', 'Glucose', 'BloodPressure', 'SkinThickness', 'Insulin', 'BMI', 'DiabetesPedigreeFunction', 'Age', 'Outcome']\n",
        "data = pd.read_csv(url, names=column_names)\n",
        "\n",
        "# Separating features and target variable\n",
        "X = data.iloc[:, :-1].values\n",
        "y = data.iloc[:, -1].values\n",
        "\n",
        "# Split the dataset into training and test sets\n",
        "X_train, X_test, y_train, y_test = train_test_split(X, y, test_size=0.2, random_state=42)\n",
        "\n",
        "# Feature scaling\n",
        "scaler = StandardScaler()\n",
        "X_train = scaler.fit_transform(X_train)\n",
        "X_test = scaler.transform(X_test)"
      ],
      "metadata": {
        "id": "S9tQJIuZ0cA1"
      },
      "execution_count": null,
      "outputs": []
    },
    {
      "cell_type": "markdown",
      "source": [
        "###Decision Tree\n",
        "Target to reproduce: 74.7%."
      ],
      "metadata": {
        "id": "eTEpOG-f4e9i"
      }
    },
    {
      "cell_type": "code",
      "source": [
        "# Create and train the Decision Tree model\n",
        "dt_model = DecisionTreeClassifier(criterion='gini', splitter='best', random_state=42)\n",
        "dt_model.fit(X_train, y_train)\n",
        "\n",
        "# Evaluate the model\n",
        "dt_predictions = dt_model.predict(X_test)\n",
        "dt_accuracy = accuracy_score(y_test, dt_predictions)\n",
        "dt_pima = round(dt_accuracy*100, 1)\n",
        "\n",
        "print(\"Pima Decision Tree Accuracy:\")\n",
        "print(\"  Target:  \", 74.7)\n",
        "print(\"  Achieved:\", dt_pima)"
      ],
      "metadata": {
        "colab": {
          "base_uri": "https://localhost:8080/"
        },
        "id": "3MOtSEZf0glz",
        "outputId": "ce910fda-ed9c-44bf-8c2e-726102a2ede9"
      },
      "execution_count": null,
      "outputs": [
        {
          "output_type": "stream",
          "name": "stdout",
          "text": [
            "Pima Decision Tree Accuracy:\n",
            "  Target:   74.7\n",
            "  Achieved: 74.7\n"
          ]
        }
      ]
    },
    {
      "cell_type": "markdown",
      "source": [
        "###Neural Network\n",
        "Target to reproduce: 64.9%."
      ],
      "metadata": {
        "id": "iqRKuq384neV"
      }
    },
    {
      "cell_type": "code",
      "source": [
        "# Create a TensorFlow neural network model\n",
        "model = tf.keras.models.Sequential([\n",
        "    tf.keras.layers.Dense(50, activation='relu', input_shape=(X_train.shape[1],)),\n",
        "    tf.keras.layers.Dense(50, activation='relu'),\n",
        "    tf.keras.layers.Dense(1, activation='sigmoid')  # Binary classification output\n",
        "])\n",
        "\n",
        "# Compile the model\n",
        "model.compile(optimizer='adam', loss='binary_crossentropy', metrics=['accuracy'])\n",
        "\n",
        "# Train the model\n",
        "model.fit(X_train, y_train, epochs=100, batch_size=32, verbose=0)\n",
        "\n",
        "# Evaluate the model\n",
        "loss, accuracy = model.evaluate(X_test, y_test)\n",
        "nn_pima = round(accuracy*100, 1)\n",
        "\n",
        "print(\"Pima Neural Network Accuracy:\")\n",
        "print(\"  Target:  \", 64.9)\n",
        "print(\"  Achieved:\", nn_pima)"
      ],
      "metadata": {
        "colab": {
          "base_uri": "https://localhost:8080/"
        },
        "id": "e-2Z6LEy0jeW",
        "outputId": "7de7d7eb-5c56-4242-e0ab-35dc0779be7c"
      },
      "execution_count": null,
      "outputs": [
        {
          "output_type": "stream",
          "name": "stderr",
          "text": [
            "/usr/local/lib/python3.10/dist-packages/keras/src/engine/training_v1.py:2335: UserWarning: `Model.state_updates` will be removed in a future version. This property should not be used in TensorFlow 2.0, as `updates` are applied automatically.\n",
            "  updates = self.state_updates\n"
          ]
        },
        {
          "output_type": "stream",
          "name": "stdout",
          "text": [
            "Pima Neural Network Accuracy:\n",
            "  Target:   64.9\n",
            "  Achieved: 74.0\n"
          ]
        }
      ]
    },
    {
      "cell_type": "markdown",
      "source": [
        "###Deep Neural Decision Tree\n",
        "Target to reproduce: 66.9%."
      ],
      "metadata": {
        "id": "lWLoL-124qtX"
      }
    },
    {
      "cell_type": "code",
      "source": [
        "def nn_decision_tree(x, cut_points_list, leaf_score, temperature=0.1):\n",
        "    # Ensure x is a 2D tensor\n",
        "    if len(x.get_shape()) != 2:\n",
        "        raise ValueError(\"Input x must be a 2D tensor\")\n",
        "\n",
        "    # Process each feature\n",
        "    leaf = reduce(tf_kron_prod,\n",
        "                  map(lambda z: tf_bin(tf1.reshape(x[:, z[0]:z[0] + 1], [-1, 1]), z[1], temperature),\n",
        "                      enumerate(cut_points_list)))\n",
        "    return tf1.matmul(leaf, leaf_score)\n",
        "\n",
        "sess = tf1.InteractiveSession()\n",
        "\n",
        "# Load the Pima Indians Diabetes dataset\n",
        "url = \"https://raw.githubusercontent.com/jbrownlee/Datasets/master/pima-indians-diabetes.data.csv\"\n",
        "column_names = ['Pregnancies', 'Glucose', 'BloodPressure', 'SkinThickness', 'Insulin', 'BMI', 'DiabetesPedigreeFunction', 'Age', 'Outcome']\n",
        "pima_data = pd.read_csv(url, names=column_names)\n",
        "\n",
        "# Separate features and target variable\n",
        "X = pima_data.drop('Outcome', axis=1).values  # Assuming 'Outcome' is the target column\n",
        "y = pima_data['Outcome'].values\n",
        "\n",
        "# Normalize features\n",
        "scaler = StandardScaler()\n",
        "X_scaled = scaler.fit_transform(X)\n",
        "\n",
        "# Split the data into training and testing sets\n",
        "X_train, X_test, y_train, y_test = train_test_split(X_scaled, y, test_size=0.2, random_state=42)\n",
        "\n",
        "# Set random seeds for reproducibility\n",
        "np.random.seed(1943)\n",
        "tf1.set_random_seed(1943)\n",
        "\n",
        "# Define placeholders for input and output\n",
        "num_features = X_train.shape[1]\n",
        "x_ph = tf1.placeholder(tf1.float32, [None, num_features])\n",
        "y_ph = tf1.placeholder(tf1.float32, [None])\n",
        "\n",
        "# Define DNDT hyperparameters\n",
        "num_cut = [1] * num_features  # Adjust as needed\n",
        "num_classes = 2  # Binary classification\n",
        "\n",
        "# Define variables for cut points and leaf scores\n",
        "cut_points_list = [tf1.Variable(tf1.random_uniform([i])) for i in num_cut]\n",
        "num_leaf = np.prod(np.array(num_cut) + 1)\n",
        "leaf_score = tf1.Variable(tf1.random_uniform([num_leaf, num_classes]))\n",
        "\n",
        "# Build the DNDT model (use the nn_decision_tree function from your original code)\n",
        "y_pred = nn_decision_tree(x_ph, cut_points_list, leaf_score, temperature=0.1)\n",
        "\n",
        "# Define loss and optimizer\n",
        "loss = tf1.reduce_mean(tf1.losses.sparse_softmax_cross_entropy(labels=tf1.cast(y_ph, dtype=tf1.int32), logits=y_pred))\n",
        "opt = tf1.train.AdamOptimizer(0.1)\n",
        "train_step = opt.minimize(loss)\n",
        "\n",
        "# Initialize variables\n",
        "sess.run(tf1.global_variables_initializer())\n",
        "\n",
        "# Train the model\n",
        "for i in range(1000):\n",
        "    _, loss_val = sess.run([train_step, loss], feed_dict={x_ph: X_train, y_ph: y_train})\n",
        "    if i % 100 == 0 and False:\n",
        "        print(\"Loss at step {}: {:.4f}\".format(i, loss_val))\n",
        "\n",
        "# Evaluate the model\n",
        "accuracy = tf1.reduce_mean(tf1.cast(tf1.equal(tf1.argmax(y_pred, 1), tf1.cast(y_ph, dtype=tf1.int64)), tf1.float32))\n",
        "test_accuracy = sess.run(accuracy, feed_dict={x_ph: X_test, y_ph: y_test})\n",
        "dndt_pima = round(test_accuracy*100, 1)\n",
        "\n",
        "print(\"Pima Deep Neural Decision Tree Accuracy:\")\n",
        "print(\"  Target:  \", 66.9)\n",
        "print(\"  Achieved:\", dndt_pima)"
      ],
      "metadata": {
        "colab": {
          "base_uri": "https://localhost:8080/"
        },
        "id": "qfxxAB-Ef_qH",
        "outputId": "3ebb4be1-0dc4-4a6e-e82a-25d714d8a9a0"
      },
      "execution_count": null,
      "outputs": [
        {
          "output_type": "stream",
          "name": "stderr",
          "text": [
            "/usr/local/lib/python3.10/dist-packages/tensorflow/python/client/session.py:1793: UserWarning: An interactive session is already active. This can cause out-of-memory errors in some cases. You must explicitly call `InteractiveSession.close()` to release resources held by the other session(s).\n",
            "  warnings.warn('An interactive session is already active. This can '\n"
          ]
        },
        {
          "output_type": "stream",
          "name": "stdout",
          "text": [
            "Pima Deep Neural Decision Tree Accuracy:\n",
            "  Target:   66.9\n",
            "  Achieved: 65.6\n"
          ]
        }
      ]
    },
    {
      "cell_type": "markdown",
      "source": [
        "###Compare results from all models"
      ],
      "metadata": {
        "id": "w1ygaE7mLDB0"
      }
    },
    {
      "cell_type": "code",
      "source": [
        "print(\"                    \", \"DNDT\", \" DT \", \" NN\")\n",
        "print(\"Target Accuracies:  \", 66.9, 74.7, 64.9)\n",
        "print(\"Achieved Accuracies:\", dndt_pima, dt_pima, nn_pima)"
      ],
      "metadata": {
        "colab": {
          "base_uri": "https://localhost:8080/"
        },
        "outputId": "1d6b63cb-9fcd-4fb4-986a-f1898c11beb5",
        "id": "V4TENDo0LDB5"
      },
      "execution_count": null,
      "outputs": [
        {
          "output_type": "stream",
          "name": "stdout",
          "text": [
            "                     DNDT  DT   NN\n",
            "Target Accuracies:   66.9 74.7 64.9\n",
            "Achieved Accuracies: 65.6 74.7 74.0\n"
          ]
        }
      ]
    },
    {
      "cell_type": "markdown",
      "source": [
        "##Dataset 4: Iris Dataset"
      ],
      "metadata": {
        "id": "z1y4TF541wQ6"
      }
    },
    {
      "cell_type": "markdown",
      "source": [
        "Load data, extract features and labels, then split into train and test sets."
      ],
      "metadata": {
        "id": "_ZQ8Ew0H4Lyu"
      }
    },
    {
      "cell_type": "code",
      "source": [
        "# Load the Iris dataset\n",
        "iris = load_iris()\n",
        "X = iris.data\n",
        "y = iris.target\n",
        "\n",
        "# Split the dataset into training and test sets\n",
        "X_train, X_test, y_train, y_test = train_test_split(X, y, test_size=0.2, random_state=42)\n",
        "\n",
        "# Feature scaling\n",
        "scaler = StandardScaler()\n",
        "X_train = scaler.fit_transform(X_train)\n",
        "X_test = scaler.transform(X_test)"
      ],
      "metadata": {
        "id": "YYVtu1RU1v5P"
      },
      "execution_count": null,
      "outputs": []
    },
    {
      "cell_type": "markdown",
      "source": [
        "###Decision Tree\n",
        "Target to reproduce: 100.0%."
      ],
      "metadata": {
        "id": "xOtM9y4W2Pc-"
      }
    },
    {
      "cell_type": "code",
      "source": [
        "# Create and train the Decision Tree model\n",
        "dt_model = DecisionTreeClassifier(criterion='gini', splitter='best', random_state=42)\n",
        "dt_model.fit(X_train, y_train)\n",
        "\n",
        "# Evaluate the model\n",
        "dt_predictions = dt_model.predict(X_test)\n",
        "dt_accuracy = accuracy_score(y_test, dt_predictions)\n",
        "dt_iris = round(dt_accuracy*100, 1)\n",
        "\n",
        "print(\"Iris Decision Tree Accuracy:\")\n",
        "print(\"  Target:  \", 100.0)\n",
        "print(\"  Achieved:\", dt_iris)"
      ],
      "metadata": {
        "colab": {
          "base_uri": "https://localhost:8080/"
        },
        "id": "ekyKH1WU2Wgz",
        "outputId": "6121d4cf-7b7b-4eb2-aa91-3c252d55dd7a"
      },
      "execution_count": null,
      "outputs": [
        {
          "output_type": "stream",
          "name": "stdout",
          "text": [
            "Iris Decision Tree Accuracy:\n",
            "  Target:   100.0\n",
            "  Achieved: 100.0\n"
          ]
        }
      ]
    },
    {
      "cell_type": "markdown",
      "source": [
        "###Neural Network\n",
        "Target to reproduce: 100.0%."
      ],
      "metadata": {
        "id": "4eWmVlo0wOM0"
      }
    },
    {
      "cell_type": "code",
      "source": [
        "# Neural Network Model using TensorFlow\n",
        "def create_nn_model(input_shape, num_classes):\n",
        "    model = Sequential([\n",
        "        Dense(50, activation='relu', input_shape=input_shape),\n",
        "        Dense(50, activation='relu'),\n",
        "        Dense(num_classes, activation='softmax')  # Multi-class classification\n",
        "    ])\n",
        "    model.compile(optimizer='adam', loss='categorical_crossentropy', metrics=['accuracy'])\n",
        "    return model\n",
        "\n",
        "# Preparing the data\n",
        "input_shape = (X_train.shape[1],)\n",
        "num_classes = 3  # There are 3 species of Iris in the dataset\n",
        "y_train_encoded = to_categorical(y_train, num_classes)\n",
        "y_test_encoded = to_categorical(y_test, num_classes)\n",
        "\n",
        "nn_model_tf = create_nn_model(input_shape, num_classes)\n",
        "\n",
        "# Training the model\n",
        "nn_model_tf.fit(X_train, y_train_encoded, epochs=100, batch_size=10, verbose=0)\n",
        "\n",
        "# Evaluating the model\n",
        "nn_predictions_tf = nn_model_tf.predict(X_test)\n",
        "nn_predictions_tf = [np.argmax(pred) for pred in nn_predictions_tf]\n",
        "nn_accuracy_tf = accuracy_score(y_test, nn_predictions_tf)\n",
        "nn_iris = round(nn_accuracy_tf*100, 1)\n",
        "\n",
        "print(\"Iris Neural Network Accuracy:\")\n",
        "print(\"  Target:  \", 100.0)\n",
        "print(\"  Achieved:\", nn_iris)"
      ],
      "metadata": {
        "colab": {
          "base_uri": "https://localhost:8080/"
        },
        "id": "vtNpJXa311-A",
        "outputId": "8a26c99e-b1bb-400a-d2cb-765f94574350"
      },
      "execution_count": null,
      "outputs": [
        {
          "output_type": "stream",
          "name": "stderr",
          "text": [
            "/usr/local/lib/python3.10/dist-packages/keras/src/engine/training_v1.py:2359: UserWarning: `Model.state_updates` will be removed in a future version. This property should not be used in TensorFlow 2.0, as `updates` are applied automatically.\n",
            "  updates=self.state_updates,\n"
          ]
        },
        {
          "output_type": "stream",
          "name": "stdout",
          "text": [
            "Iris Neural Network Accuracy:\n",
            "  Target:   100.0\n",
            "  Achieved: 100.0\n"
          ]
        }
      ]
    },
    {
      "cell_type": "markdown",
      "source": [
        "###Deep Neural Decision Tree\n",
        "Target to reproduce: 100.0%."
      ],
      "metadata": {
        "id": "0LB7QcC1wYmt"
      }
    },
    {
      "cell_type": "code",
      "source": [
        "sess = tf1.InteractiveSession()\n",
        "\n",
        "# Load the Iris dataset\n",
        "iris_url = 'https://archive.ics.uci.edu/ml/machine-learning-databases/iris/iris.data'\n",
        "iris_columns = ['sepal_length', 'sepal_width', 'petal_length', 'petal_width', 'species']\n",
        "iris_data = pd.read_csv(iris_url, names=iris_columns)\n",
        "\n",
        "# Encode the 'species' column to integers\n",
        "label_encoder = LabelEncoder()\n",
        "iris_data['species'] = label_encoder.fit_transform(iris_data['species'])\n",
        "\n",
        "# Separate features and target variable\n",
        "X = iris_data.drop('species', axis=1).values\n",
        "y = iris_data['species'].values\n",
        "\n",
        "# Normalize features\n",
        "scaler = StandardScaler()\n",
        "X_scaled = scaler.fit_transform(X)\n",
        "\n",
        "# Split the data into training and testing sets\n",
        "X_train, X_test, y_train, y_test = train_test_split(X_scaled, y, test_size=0.2, random_state=42)\n",
        "\n",
        "# Set random seeds for reproducibility\n",
        "np.random.seed(1943)\n",
        "tf1.set_random_seed(1943)\n",
        "\n",
        "# Define placeholders for input and output\n",
        "num_features = X_train.shape[1]\n",
        "x_ph = tf1.placeholder(tf1.float32, [None, num_features])\n",
        "y_ph = tf1.placeholder(tf1.int32, [None])\n",
        "\n",
        "# Define DNDT hyperparameters\n",
        "num_cut = [1] * num_features  # Adjust as needed\n",
        "num_classes = 3  # There are three classes in the Iris dataset\n",
        "\n",
        "# Define variables for cut points and leaf scores\n",
        "cut_points_list = [tf1.Variable(tf1.random_uniform([i])) for i in num_cut]\n",
        "num_leaf = np.prod(np.array(num_cut) + 1)\n",
        "leaf_score = tf1.Variable(tf1.random_uniform([num_leaf, num_classes]))\n",
        "\n",
        "# Build the DNDT model (use the nn_decision_tree function from your original code)\n",
        "y_pred = nn_decision_tree(x_ph, cut_points_list, leaf_score, temperature=0.1)\n",
        "\n",
        "# Define loss and optimizer\n",
        "loss = tf1.reduce_mean(tf1.losses.sparse_softmax_cross_entropy(labels=y_ph, logits=y_pred))\n",
        "opt = tf1.train.AdamOptimizer(0.1)\n",
        "train_step = opt.minimize(loss)\n",
        "\n",
        "# Initialize variables\n",
        "sess.run(tf1.global_variables_initializer())\n",
        "\n",
        "# Train the model\n",
        "for i in range(1000):\n",
        "    _, loss_val = sess.run([train_step, loss], feed_dict={x_ph: X_train, y_ph: y_train})\n",
        "    if i % 100 == 0 and False:\n",
        "        print(\"Loss at step {}: {:.4f}\".format(i, loss_val))\n",
        "\n",
        "# Evaluate the model\n",
        "accuracy = tf1.reduce_mean(tf1.cast(tf1.equal(tf1.argmax(y_pred, 1), tf1.cast(y_ph, tf1.int64)), tf1.float32))\n",
        "test_accuracy = sess.run(accuracy, feed_dict={x_ph: X_test, y_ph: y_test})\n",
        "dndt_iris = round(test_accuracy*100, 1)\n",
        "\n",
        "print(\"Iris Deep Neural Decision Tree Accuracy:\")\n",
        "print(\"  Target:  \", 100.0)\n",
        "print(\"  Achieved:\", dndt_iris)"
      ],
      "metadata": {
        "colab": {
          "base_uri": "https://localhost:8080/"
        },
        "id": "m0103_pXBMND",
        "outputId": "570df010-01da-4f99-81f0-ff42c41ccc44"
      },
      "execution_count": null,
      "outputs": [
        {
          "output_type": "stream",
          "name": "stderr",
          "text": [
            "/usr/local/lib/python3.10/dist-packages/tensorflow/python/client/session.py:1793: UserWarning: An interactive session is already active. This can cause out-of-memory errors in some cases. You must explicitly call `InteractiveSession.close()` to release resources held by the other session(s).\n",
            "  warnings.warn('An interactive session is already active. This can '\n"
          ]
        },
        {
          "output_type": "stream",
          "name": "stdout",
          "text": [
            "Iris Deep Neural Decision Tree Accuracy:\n",
            "  Target:   100.0\n",
            "  Achieved: 100.0\n"
          ]
        }
      ]
    },
    {
      "cell_type": "markdown",
      "source": [
        "###Compare results from all models"
      ],
      "metadata": {
        "id": "JzXVmfBlNfQA"
      }
    },
    {
      "cell_type": "code",
      "source": [
        "print(\"                    \", \"DNDT\", \" DT \", \" NN\")\n",
        "print(\"Target Accuracies:  \", 100.0, 100.0, 100.0)\n",
        "print(\"Achieved Accuracies:\", dndt_iris, dt_iris, nn_iris)"
      ],
      "metadata": {
        "colab": {
          "base_uri": "https://localhost:8080/"
        },
        "outputId": "f296a0b9-8275-4550-bc37-10c7b90d3f95",
        "id": "PYHYbfFrNfQE"
      },
      "execution_count": null,
      "outputs": [
        {
          "output_type": "stream",
          "name": "stdout",
          "text": [
            "                     DNDT  DT   NN\n",
            "Target Accuracies:   100.0 100.0 100.0\n",
            "Achieved Accuracies: 100.0 100.0 100.0\n"
          ]
        }
      ]
    },
    {
      "cell_type": "markdown",
      "source": [
        "### Analysis Iris Active Cut Points"
      ],
      "metadata": {
        "id": "EBltzHw3zwJd"
      }
    },
    {
      "cell_type": "code",
      "source": [
        "#Test Code here\n",
        "@tf.function\n",
        "def tf_kron_prod(a, b):\n",
        "    res = tf.einsum('ij,ik->ijk', a, b)\n",
        "    res = tf.reshape(res, [-1, tf.reduce_prod(res.shape[1:])])\n",
        "    return res\n",
        "\n",
        "@tf.function\n",
        "def tf_bin(x, cut_points, temperature=0.1):\n",
        "    D = cut_points.get_shape().as_list()[0]\n",
        "    W = tf.reshape(tf.linspace(1.0, D + 1.0, D + 1), [1, -1])\n",
        "    cut_points = tf.sort(cut_points)\n",
        "    b = tf.cumsum(tf.concat([tf.constant(0.0, shape=[1]), -cut_points], 0))\n",
        "    h = tf.matmul(x, W) + b\n",
        "    res = tf.nn.softmax(h / temperature)\n",
        "    return res\n",
        "\n",
        "@tf.function\n",
        "def active_cut_points(x, cut_points_list, temperature=0.1):\n",
        "    active_points = []\n",
        "\n",
        "    for i, cut_points in enumerate(cut_points_list):\n",
        "        bin_result = tf_bin(x[:, i:i+1], cut_points, temperature)\n",
        "\n",
        "        # Check if at least one instance falls on each side of the cut point\n",
        "        left_count = tf.reduce_sum(tf.cast(tf.math.greater(bin_result[:, :-1], 0.5), tf.float32))\n",
        "        right_count = tf.reduce_sum(tf.cast(tf.math.greater(bin_result[:, 1:], 0.5), tf.float32))\n",
        "\n",
        "        # Use tf.reduce_all to operate within the TensorFlow graph\n",
        "        is_active = tf.reduce_all([left_count > 0, right_count > 0])\n",
        "\n",
        "        if is_active:\n",
        "            active_points.append((i, cut_points))\n",
        "\n",
        "    return active_points\n",
        "\n",
        "@tf.function\n",
        "def nn_decision_tree(x, cut_points_list, leaf_score, temperature=0.1):\n",
        "    active_points = active_cut_points(x, cut_points_list, temperature)\n",
        "\n",
        "    # # Print or use active_points as needed\n",
        "    # print(\"Active Cut Points:\", active_points)\n",
        "\n",
        "    leaf = reduce(tf_kron_prod,\n",
        "                  map(lambda z: tf_bin(x[:, z[0]:z[0] + 1], z[1], temperature), active_points))\n",
        "    return tf.matmul(leaf, leaf_score)\n",
        "\n",
        "# Load the Iris dataset\n",
        "iris_url = 'https://archive.ics.uci.edu/ml/machine-learning-databases/iris/iris.data'\n",
        "iris_columns = ['sepal_length', 'sepal_width', 'petal_length', 'petal_width', 'species']\n",
        "iris_data = pd.read_csv(iris_url, names=iris_columns)\n",
        "\n",
        "# Encode the 'species' column to integers\n",
        "label_encoder = LabelEncoder()\n",
        "iris_data['species'] = label_encoder.fit_transform(iris_data['species'])\n",
        "\n",
        "# Separate features and target variable\n",
        "X = iris_data.drop('species', axis=1).values\n",
        "y = iris_data['species'].values\n",
        "\n",
        "# Normalize features\n",
        "scaler = StandardScaler()\n",
        "X_scaled = scaler.fit_transform(X)\n",
        "\n",
        "# Split the data into training and testing sets\n",
        "X_train, X_test, y_train, y_test = train_test_split(X_scaled, y, test_size=0.2, random_state=42)\n",
        "\n",
        "np.random.seed(1943)\n",
        "tf.random.set_seed(1943)\n",
        "\n",
        "# Define placeholders for input and output\n",
        "num_features = X_train.shape[1]\n",
        "x_ph = tf1.placeholder(tf1.float32, [None, num_features])\n",
        "y_ph = tf1.placeholder(tf1.int32, [None])\n",
        "\n",
        "\n",
        "perc_active_cut_list = []\n",
        "num_cut_list = [[1,1,1,1],[2,2,2,2],[3,3,3,3], [4,4,4,4], [5,5,5,5]]\n",
        "\n",
        "for num_cut in num_cut_list:\n",
        "  d = X_scaled.shape[1]  # Number of features\n",
        "  num_cut = num_cut    # Number of cut points for each feature\n",
        "  num_leaf = np.prod(np.array(num_cut) + 1)\n",
        "  num_classes = 3\n",
        "\n",
        "  # Create TensorFlow session\n",
        "  sess = tf1.InteractiveSession()\n",
        "\n",
        "  # Define placeholders and variables\n",
        "  x_ph = tf1.placeholder(tf1.float32, [None, num_features])\n",
        "  y_ph = tf1.placeholder(tf1.int32, [None])\n",
        "\n",
        "  # Define variables for cut points and leaf scores\n",
        "  cut_points_list = [tf1.Variable(tf1.random_uniform([i])) for i in num_cut]\n",
        "  num_leaf = np.prod(np.array(num_cut) + 1)\n",
        "  leaf_score = tf1.Variable(tf1.random_uniform([num_leaf, num_classes]))\n",
        "\n",
        "  # Build the DNDT model (use the nn_decision_tree function from your original code)\n",
        "  y_pred = nn_decision_tree(x_ph, cut_points_list, leaf_score, temperature=0.1)\n",
        "\n",
        "  # Define loss and optimizer\n",
        "  loss = tf1.reduce_mean(tf1.losses.sparse_softmax_cross_entropy(labels=y_ph, logits=y_pred))\n",
        "  opt = tf1.train.AdamOptimizer(0.1)\n",
        "  train_step = opt.minimize(loss)\n",
        "\n",
        "  # Initialize variables\n",
        "  sess.run(tf1.global_variables_initializer())\n",
        "\n",
        "  # Train the model\n",
        "  for i in range(1000):\n",
        "      _, loss_val = sess.run([train_step, loss], feed_dict={x_ph: X_train, y_ph: y_train})\n",
        "      if i % 100 == 0 and False:\n",
        "          print(\"Loss at step {}: {:.4f}\".format(i, loss_val))\n",
        "\n",
        "  # Evaluate the percentage of active cut points\n",
        "  percentage_active_cut_points = sess.run(active_cut_points(x_ph, cut_points_list, temperature=0.1), feed_dict={x_ph: X_scaled})\n",
        "  total_cut_points = X_scaled.shape[1] * sum(num_cut)\n",
        "  percentage_active_cut_points = len(percentage_active_cut_points) / total_cut_points * 100\n",
        "\n",
        "  #Appending the cut_points to the list\n",
        "  perc_active_cut_list.append(round(percentage_active_cut_points, 2))\n",
        "\n",
        "  print(f\"Percentage of Active Cut Points: {percentage_active_cut_points:.2f}%\")\n",
        "\n",
        "perc_active_cut_list"
      ],
      "metadata": {
        "colab": {
          "base_uri": "https://localhost:8080/"
        },
        "outputId": "760565ac-9f87-464d-937d-c661ef340bc1",
        "id": "9vXQ2xO7zwJd"
      },
      "execution_count": null,
      "outputs": [
        {
          "output_type": "stream",
          "name": "stderr",
          "text": [
            "/usr/local/lib/python3.10/dist-packages/tensorflow/python/client/session.py:1793: UserWarning: An interactive session is already active. This can cause out-of-memory errors in some cases. You must explicitly call `InteractiveSession.close()` to release resources held by the other session(s).\n",
            "  warnings.warn('An interactive session is already active. This can '\n"
          ]
        },
        {
          "output_type": "stream",
          "name": "stdout",
          "text": [
            "Percentage of Active Cut Points: 25.00%\n",
            "Percentage of Active Cut Points: 12.50%\n",
            "Percentage of Active Cut Points: 8.33%\n",
            "Percentage of Active Cut Points: 6.25%\n",
            "Percentage of Active Cut Points: 5.00%\n"
          ]
        },
        {
          "output_type": "execute_result",
          "data": {
            "text/plain": [
              "[25.0, 12.5, 8.33, 6.25, 5.0]"
            ]
          },
          "metadata": {},
          "execution_count": 7
        }
      ]
    },
    {
      "cell_type": "markdown",
      "source": [
        "####Graph plot for Number of active cut points"
      ],
      "metadata": {
        "id": "7uSDZK6dE07B"
      }
    },
    {
      "cell_type": "code",
      "source": [
        "import matplotlib.pyplot as plt\n",
        "# Create x values from 1 to the number of elements in the list\n",
        "x_values = list(range(1, len(perc_active_cut_list) + 1))\n",
        "\n",
        "# Plotting the line graph\n",
        "plt.plot(x_values,perc_active_cut_list, marker='o', linestyle='-', color='blue')\n",
        "\n",
        "# Adding labels and title\n",
        "plt.xlabel('Number of cut points per feature')\n",
        "plt.ylabel('% Used')\n",
        "plt.title('Use of Cut Points for Iris')\n",
        "\n",
        "# Set background color and grid style\n",
        "plt.gca().set_facecolor('#E0E0E0')  # Light gray background\n",
        "plt.grid(color='white', linestyle='--', linewidth=0.5)\n",
        "\n",
        "# Show the plot\n",
        "plt.show()"
      ],
      "metadata": {
        "colab": {
          "base_uri": "https://localhost:8080/",
          "height": 472
        },
        "id": "DmhQ44bFE5HY",
        "outputId": "fcd00e23-23e5-41a4-9a2e-dbab4ab10aad"
      },
      "execution_count": null,
      "outputs": [
        {
          "output_type": "display_data",
          "data": {
            "text/plain": [
              "<Figure size 640x480 with 1 Axes>"
            ],
            "image/png": "[encoded data removed]"
          },
          "metadata": {}
        }
      ]
    },
    {
      "cell_type": "markdown",
      "source": [
        "##Dataset 5: Car Evaluation Dataset"
      ],
      "metadata": {
        "id": "8401T0M8Avt_"
      }
    },
    {
      "cell_type": "markdown",
      "source": [
        "Load data, extract features and labels, then split into train and test sets."
      ],
      "metadata": {
        "id": "zLsHVdrF4RkQ"
      }
    },
    {
      "cell_type": "code",
      "source": [
        "# Load the Car Evaluation dataset\n",
        "url = 'https://archive.ics.uci.edu/ml/machine-learning-databases/car/car.data'\n",
        "column_names = ['buying', 'maint', 'doors', 'persons', 'lug_boot', 'safety', 'class']\n",
        "data = pd.read_csv(url, names=column_names)\n",
        "\n",
        "# Encode categorical variables\n",
        "categorical_features = ['buying', 'maint', 'doors', 'persons', 'lug_boot', 'safety']\n",
        "one_hot_encoder = ColumnTransformer(transformers=[\n",
        "    ('cat', OneHotEncoder(), categorical_features)\n",
        "], remainder='passthrough')\n",
        "\n",
        "X = one_hot_encoder.fit_transform(data.iloc[:, :-1])\n",
        "y = pd.factorize(data['class'])[0]\n",
        "\n",
        "# Split the dataset into training and test sets\n",
        "X_train, X_test, y_train, y_test = train_test_split(X, y, test_size=0.2, random_state=42)\n",
        "\n",
        "# Note: Scaling is not necessary for tree-based models and neural networks can be quite robust to unscaled data"
      ],
      "metadata": {
        "id": "ihnsUi6IAvYj"
      },
      "execution_count": null,
      "outputs": []
    },
    {
      "cell_type": "markdown",
      "source": [
        "###Decision Tree\n",
        "Target to reproduce: 96.5%."
      ],
      "metadata": {
        "id": "Gt9nsXK-wigT"
      }
    },
    {
      "cell_type": "code",
      "source": [
        "# Create and train the Decision Tree model\n",
        "dt_model = DecisionTreeClassifier(criterion='gini', splitter='best', random_state=42)\n",
        "dt_model.fit(X_train, y_train)\n",
        "\n",
        "# Evaluate the model\n",
        "dt_predictions = dt_model.predict(X_test)\n",
        "dt_accuracy = accuracy_score(y_test, dt_predictions)\n",
        "dt_car = round(dt_accuracy*100, 1)\n",
        "\n",
        "print(\"Car Evaluation Decision Tree Accuracy:\")\n",
        "print(\"  Target:  \", 96.5)\n",
        "print(\"  Achieved:\", dt_car)"
      ],
      "metadata": {
        "colab": {
          "base_uri": "https://localhost:8080/"
        },
        "id": "DCINlCvkA-EE",
        "outputId": "c9e8588f-a0a8-42f4-c18b-73922f4abec6"
      },
      "execution_count": null,
      "outputs": [
        {
          "output_type": "stream",
          "name": "stdout",
          "text": [
            "Car Evaluation Decision Tree Accuracy:\n",
            "  Target:   96.5\n",
            "  Achieved: 95.7\n"
          ]
        }
      ]
    },
    {
      "cell_type": "markdown",
      "source": [
        "###Neural Network\n",
        "Target to reproduce: 91.6%."
      ],
      "metadata": {
        "id": "Xxwc5l2GwmZP"
      }
    },
    {
      "cell_type": "code",
      "source": [
        "# Neural Network Model using TensorFlow\n",
        "def create_nn_model(input_shape, num_classes):\n",
        "    model = Sequential([\n",
        "        Dense(50, activation='relu', input_shape=input_shape),\n",
        "        Dense(50, activation='relu'),\n",
        "        Dense(num_classes, activation='softmax')\n",
        "    ])\n",
        "    model.compile(optimizer='adam', loss='categorical_crossentropy', metrics=['accuracy'])\n",
        "    return model\n",
        "\n",
        "# Preparing the data\n",
        "input_shape = (X_train.shape[1],)\n",
        "num_classes = len(np.unique(y_train))\n",
        "y_train_encoded = to_categorical(y_train, num_classes)\n",
        "y_test_encoded = to_categorical(y_test, num_classes)\n",
        "\n",
        "nn_model_tf = create_nn_model(input_shape, num_classes)\n",
        "\n",
        "# Training the model\n",
        "nn_model_tf.fit(X_train, y_train_encoded, epochs=100, batch_size=10, verbose=0)\n",
        "\n",
        "# Evaluating the model\n",
        "nn_predictions_tf = nn_model_tf.predict(X_test)\n",
        "nn_predictions_tf = [np.argmax(pred) for pred in nn_predictions_tf]\n",
        "nn_accuracy_tf = accuracy_score(y_test, nn_predictions_tf)\n",
        "nn_car = round(nn_accuracy_tf*100, 1)\n",
        "\n",
        "print(\"Car Evaluation Neural Network Accuracy:\")\n",
        "print(\"  Target:  \", 91.6)\n",
        "print(\"  Achieved:\", nn_car)"
      ],
      "metadata": {
        "colab": {
          "base_uri": "https://localhost:8080/"
        },
        "id": "14V0gfR0BAk_",
        "outputId": "eb997f03-cfdd-4b84-b63a-c55e27f434eb"
      },
      "execution_count": null,
      "outputs": [
        {
          "output_type": "stream",
          "name": "stderr",
          "text": [
            "/usr/local/lib/python3.10/dist-packages/keras/src/engine/training_v1.py:2359: UserWarning: `Model.state_updates` will be removed in a future version. This property should not be used in TensorFlow 2.0, as `updates` are applied automatically.\n",
            "  updates=self.state_updates,\n"
          ]
        },
        {
          "output_type": "stream",
          "name": "stdout",
          "text": [
            "Car Evaluation Neural Network Accuracy:\n",
            "  Target:   91.6\n",
            "  Achieved: 100.0\n"
          ]
        }
      ]
    },
    {
      "cell_type": "markdown",
      "source": [
        "###Deep Neural Decision Tree\n",
        "Target to reproduce: 95.1%."
      ],
      "metadata": {
        "id": "W5-6HzR243xT"
      }
    },
    {
      "cell_type": "code",
      "source": [
        "#DNDT .... Caution run with high ram and good gpu\n",
        "\n",
        "sess = tf1.InteractiveSession()\n",
        "\n",
        "# Load the Car Evaluation dataset\n",
        "url = 'https://archive.ics.uci.edu/ml/machine-learning-databases/car/car.data'\n",
        "column_names = ['buying', 'maint', 'doors', 'persons', 'lug_boot', 'safety', 'class']\n",
        "car_data = pd.read_csv(url, names=column_names)\n",
        "\n",
        "# Handle categorical features (convert them to numerical format)\n",
        "# One-hot encode the categorical features\n",
        "encoder = OneHotEncoder()\n",
        "X_encoded = encoder.fit_transform(car_data.drop('class', axis=1)).toarray()\n",
        "\n",
        "# One-hot encode the target variable\n",
        "y_encoded = pd.get_dummies(car_data['class']).values\n",
        "\n",
        "# Normalize features\n",
        "scaler = StandardScaler()\n",
        "X_scaled = scaler.fit_transform(X_encoded)\n",
        "\n",
        "# Split the data into training and testing sets\n",
        "X_train, X_test, y_train, y_test = train_test_split(X_scaled, y_encoded, test_size=0.2, random_state=42)\n",
        "\n",
        "# Set random seeds for reproducibility\n",
        "np.random.seed(1943)\n",
        "tf1.set_random_seed(1943)\n",
        "\n",
        "# Define placeholders for input and output\n",
        "num_features = X_train.shape[1]\n",
        "x_ph = tf1.placeholder(tf1.float32, [None, num_features])\n",
        "y_ph = tf1.placeholder(tf1.float32, [None, 4])  # 4 classes in the target variable\n",
        "\n",
        "# Define DNDT hyperparameters\n",
        "num_cut = [1] * num_features  # Adjust as needed\n",
        "num_classes = 4  # There are four classes in the Car Evaluation dataset\n",
        "\n",
        "# Define variables for cut points and leaf scores\n",
        "cut_points_list = [tf1.Variable(tf1.random_uniform([i])) for i in num_cut]\n",
        "num_leaf = np.prod(np.array(num_cut) + 1)\n",
        "leaf_score = tf1.Variable(tf1.random_uniform([num_leaf, num_classes]))\n",
        "\n",
        "# Build the DNDT model\n",
        "y_pred = nn_decision_tree(x_ph, cut_points_list, leaf_score, temperature=0.1)\n",
        "\n",
        "# Define loss and optimizer\n",
        "loss = tf1.reduce_mean(tf1.nn.softmax_cross_entropy_with_logits_v2(labels=y_ph, logits=y_pred))\n",
        "opt = tf1.train.AdamOptimizer(0.1)\n",
        "train_step = opt.minimize(loss)\n",
        "\n",
        "# Initialize variables\n",
        "sess.run(tf1.global_variables_initializer())\n",
        "\n",
        "batch_size = 100  # Choose a batch size that fits your memory\n",
        "num_batches = int(np.ceil(X_train.shape[0] / batch_size))\n",
        "\n",
        "for i in range(1000):\n",
        "    for batch in range(num_batches):\n",
        "        batch_start = batch * batch_size\n",
        "        batch_end = min(batch_start + batch_size, X_train.shape[0])\n",
        "        X_batch = X_train[batch_start:batch_end]\n",
        "        y_batch = y_train[batch_start:batch_end]\n",
        "        _, loss_val = sess.run([train_step, loss], feed_dict={x_ph: X_batch, y_ph: y_batch})\n",
        "    if i % 100 == 0 and False:\n",
        "        print(\"Loss at step {}: {:.4f}\".format(i, loss_val))\n",
        "\n",
        "# Evaluate the model\n",
        "correct_prediction = tf1.equal(tf1.argmax(y_pred, 1), tf1.argmax(y_ph, 1))\n",
        "accuracy = tf1.reduce_mean(tf1.cast(correct_prediction, tf1.float32))\n",
        "test_accuracy = sess.run(accuracy, feed_dict={x_ph: X_test, y_ph: y_test})\n",
        "dndt_car = round(test_accuracy*100, 1)\n",
        "\n",
        "print(\"Car Evaluation Deep Neural Decision Tree Accuracy:\")\n",
        "print(\"  Target:  \", 95.1)\n",
        "print(\"  Achieved:\", dndt_car)"
      ],
      "metadata": {
        "id": "qafaOa_LCy-t"
      },
      "execution_count": null,
      "outputs": []
    },
    {
      "cell_type": "markdown",
      "source": [
        "###Compare results from all models"
      ],
      "metadata": {
        "id": "WsoU0FwLNmHb"
      }
    },
    {
      "cell_type": "code",
      "source": [
        "print(\"                    \", \"DNDT\", \" DT \", \" NN\")\n",
        "print(\"Target Accuracies:  \", 95.1, 96.5, 91.6)\n",
        "print(\"Achieved Accuracies:\", dndt_car, dt_car, nn_car)"
      ],
      "metadata": {
        "colab": {
          "base_uri": "https://localhost:8080/"
        },
        "outputId": "f4fa8f9b-a6bd-4cd7-bac3-872c42f481eb",
        "id": "k_0rm1hbNmHg"
      },
      "execution_count": null,
      "outputs": [
        {
          "output_type": "stream",
          "name": "stdout",
          "text": [
            "                     DNDT  DT   NN\n",
            "Target Accuracies:   95.1 96.5 91.6\n",
            "Achieved Accuracies: 92.4 95.7 99.7\n"
          ]
        }
      ]
    },
    {
      "cell_type": "markdown",
      "source": [
        "##Overall results from all datasets"
      ],
      "metadata": {
        "id": "YHy_grMBOlIj"
      }
    },
    {
      "cell_type": "code",
      "source": [
        "print(\"                                 \", \"DNDT\", \" DT \", \" NN\")\n",
        "print()\n",
        "print(\"Haberman's Target:               \", 70.9, 66.1, 70.9)\n",
        "print(\"Haberman's Achieved:             \", dndt_habermans, dt_habermans, nn_habermans)\n",
        "print(\"Haberman's Similarity Coeff:     \", round(70.9/dndt_habermans, 2), round(66.1/dt_habermans,2), \"\", round(70.9/nn_habermans,1))\n",
        "print()\n",
        "print(\"Titanic Target:                  \", 80.4, 79.0, 76.9)\n",
        "print(\"Titanic Achieved:                \", dndt_titanic, dt_titanic, nn_titanic)\n",
        "print(\"Titanic Similarity Coeff:        \", round(80.4/dndt_titanic, 2), round(79.0/dt_titanic,2), \"\", round(76.9/nn_titanic,1))\n",
        "print()\n",
        "print(\"Pima Target:                     \", 66.9, 74.7, 64.9)\n",
        "print(\"Pima Achieved:                   \", dndt_pima, dt_pima, nn_pima)\n",
        "print(\"Pima Similarity Coeff:           \", round(66.9/dndt_pima, 2), round(74.7/dt_pima,2), \"\", round(64.9/nn_pima,1))\n",
        "print()\n",
        "print(\"Iris Target:                     \", 100.0, 100.0, 100.0)\n",
        "print(\"Iris Achieved:                   \", dndt_iris, dt_iris, nn_iris)\n",
        "print(\"Iris Similarity Coeff:           \", round(100.0/dndt_iris, 2),  \" \", round(100.0/dt_iris,2), \" \", round(100.0/nn_iris,1))\n",
        "print()\n",
        "print(\"Car Evaluation Target:           \", 95.1, 96.5, 91.6)\n",
        "print(\"Car Evaluation Achieved:         \", dndt_car, dt_car, nn_car)\n",
        "print(\"Car Evaluation Similarity Coeff: \", round(95.1/dndt_car, 2), round(96.5/dt_car,2), round(91.6/nn_car,1))"
      ],
      "metadata": {
        "colab": {
          "base_uri": "https://localhost:8080/"
        },
        "id": "Rz6ysHomOolV",
        "outputId": "b208eef8-89d9-4fec-e04f-7a0b66b758c5"
      },
      "execution_count": null,
      "outputs": [
        {
          "output_type": "stream",
          "name": "stdout",
          "text": [
            "                                  DNDT  DT   NN\n",
            "\n",
            "Haberman's Target:                70.9 66.1 70.9\n",
            "Haberman's Achieved:              78.1 66.1 71.0\n",
            "Haberman's Similarity Coeff:      0.91 1.0  1.0\n",
            "\n",
            "Titanic Target:                   80.4 79.0 76.9\n",
            "Titanic Achieved:                 75.3 79.2 80.9\n",
            "Titanic Similarity Coeff:         1.07 1.0  1.0\n",
            "\n",
            "Pima Target:                      66.9 74.7 64.9\n",
            "Pima Achieved:                    65.6 74.7 74.0\n",
            "Pima Similarity Coeff:            1.02 1.0  0.9\n",
            "\n",
            "Iris Target:                      100.0 100.0 100.0\n",
            "Iris Achieved:                    100.0 100.0 100.0\n",
            "Iris Similarity Coeff:            1.0   1.0   1.0\n",
            "\n",
            "Car Evaluation Target:            95.1 96.5 91.6\n",
            "Car Evaluation Achieved:          92.4 95.7 100.0\n",
            "Car Evaluation Similarity Coeff:  1.03 1.01 0.9\n"
          ]
        }
      ]
    },
    {
      "cell_type": "markdown",
      "source": [
        "#Adjust DNDT Hyperparameters"
      ],
      "metadata": {
        "id": "he5rsVOnVYf8"
      }
    },
    {
      "cell_type": "markdown",
      "source": [
        "Define function to create line graph."
      ],
      "metadata": {
        "id": "VdTsIdRDbBLr"
      }
    },
    {
      "cell_type": "code",
      "source": [
        "def show_graph(numbers, title, color):\n",
        "  # Create a line graph\n",
        "  plt.plot(numbers, color=color)\n",
        "\n",
        "  # Add labels and title\n",
        "  plt.xlabel('Number of Cut Points')\n",
        "  plt.ylabel('Accuracy')\n",
        "  plt.title(title)\n",
        "\n",
        "  plt.xlim(1, len(numbers) - 1)\n",
        "\n",
        "  # Display the graph\n",
        "  plt.show()"
      ],
      "metadata": {
        "id": "tVtDOGETbArd"
      },
      "execution_count": null,
      "outputs": []
    },
    {
      "cell_type": "markdown",
      "source": [
        "##Dataset 1: Habermans"
      ],
      "metadata": {
        "id": "DEb7AbHwVnao"
      }
    },
    {
      "cell_type": "markdown",
      "source": [
        "Load data, extract features and labels, then split into train and test sets."
      ],
      "metadata": {
        "id": "9CeGrNgfVv_7"
      }
    },
    {
      "cell_type": "code",
      "source": [
        "url = 'https://archive.ics.uci.edu/ml/machine-learning-databases/haberman/haberman.data'\n",
        "data = pd.read_csv(url, header=None)\n",
        "\n",
        "# Optionally, add column names for readability\n",
        "data.columns = ['Age', 'Year', 'Nodes', 'Survival_Status']\n",
        "X = data.iloc[:, :-1].values\n",
        "y = data.iloc[:, -1].values\n",
        "\n",
        "# Split the dataset into training and test sets\n",
        "X_train, X_test, y_train, y_test = train_test_split(X, y, test_size=0.2, random_state=42)\n",
        "\n",
        "# Scale the features\n",
        "scaler = StandardScaler()\n",
        "X_train = scaler.fit_transform(X_train)\n",
        "X_test = scaler.transform(X_test)"
      ],
      "metadata": {
        "id": "l071yE1nVwAF"
      },
      "execution_count": null,
      "outputs": []
    },
    {
      "cell_type": "code",
      "source": [
        "accuracies_habermans = []\n",
        "for i in range(1, 11):\n",
        "  url = 'https://archive.ics.uci.edu/ml/machine-learning-databases/haberman/haberman.data'\n",
        "  columns = ['Age', 'Year', 'Nodes', 'SurvivalStatus']\n",
        "  data = pd.read_csv(url, header=None, names=columns)\n",
        "\n",
        "  # The 'SurvivalStatus' column is '1' for patients who survived 5 years or longer and '2' for those who didn't.\n",
        "  # Convert this to a binary classification problem: '0' for 'did not survive' and '1' for 'survived'\n",
        "  data['SurvivalStatus'] = data['SurvivalStatus'].map({1: 0, 2: 1})\n",
        "\n",
        "  # Separate features and target variable\n",
        "  X = data.drop('SurvivalStatus', axis=1).values\n",
        "  y = data['SurvivalStatus'].values\n",
        "\n",
        "  # Normalize features\n",
        "  scaler = StandardScaler()\n",
        "  X_scaled = scaler.fit_transform(X)\n",
        "\n",
        "  # Convert labels to one-hot encoding\n",
        "  encoder = OneHotEncoder(sparse_output=False)\n",
        "  y_one_hot = encoder.fit_transform(y.reshape(-1, 1))\n",
        "\n",
        "  np.random.seed(1943)\n",
        "  tf1.set_random_seed(1943)\n",
        "\n",
        "  d = X_scaled.shape[1]  # Number of features\n",
        "  num_cut = [i, i, i]    # Number of cut points for each feature\n",
        "  num_leaf = np.prod(np.array(num_cut) + 1)\n",
        "  num_class = 2          # Binary classification\n",
        "\n",
        "  sess = tf1.InteractiveSession()\n",
        "\n",
        "  x_ph = tf1.placeholder(tf1.float32, [None, d])\n",
        "  y_ph = tf1.placeholder(tf1.float32, [None, num_class])\n",
        "\n",
        "  cut_points_list = [tf1.Variable(tf1.random_uniform([i])) for i in num_cut]\n",
        "  leaf_score = tf1.Variable(tf1.random_uniform([num_leaf, num_class]))\n",
        "\n",
        "  y_pred = nn_decision_tree(x_ph, cut_points_list, leaf_score, temperature=0.1)\n",
        "  loss = tf1.reduce_mean(tf1.losses.softmax_cross_entropy(logits=y_pred, onehot_labels=y_ph))\n",
        "  opt = tf1.train.AdamOptimizer(0.1)\n",
        "  train_step = opt.minimize(loss)\n",
        "\n",
        "  sess.run(tf1.global_variables_initializer())\n",
        "\n",
        "  for i in range(1000):\n",
        "      _, loss_val = sess.run([train_step, loss], feed_dict={x_ph: X_scaled, y_ph: y_one_hot})\n",
        "      if i % 100 == 0 and False:\n",
        "          print(\"Loss at step {}: {}\".format(i, loss_val))\n",
        "\n",
        "  accuracy = np.mean(np.argmax(y_pred.eval(feed_dict={x_ph: X_scaled}), axis=1) == np.argmax(y_one_hot, axis=1))\n",
        "  accuracies_habermans.append(round(accuracy, 2))\n",
        "\n",
        "  sess.close()"
      ],
      "metadata": {
        "id": "x8oIv6VAVzQ_"
      },
      "execution_count": null,
      "outputs": []
    },
    {
      "cell_type": "code",
      "source": [
        "show_graph(accuracies_habermans, 'Habermans Dataset', 'gold')"
      ],
      "metadata": {
        "colab": {
          "base_uri": "https://localhost:8080/",
          "height": 471
        },
        "id": "1IL13wRjbhMG",
        "outputId": "93b57e53-5c20-4f40-b764-37fe94142603"
      },
      "execution_count": null,
      "outputs": [
        {
          "output_type": "display_data",
          "data": {
            "text/plain": [
              "<Figure size 640x480 with 1 Axes>"
            ],
            "image/png": "[encoded data removed]"
          },
          "metadata": {}
        }
      ]
    },
    {
      "cell_type": "markdown",
      "source": [
        "##Dataset 2: Pima"
      ],
      "metadata": {
        "id": "Ux06n0y5XbhQ"
      }
    },
    {
      "cell_type": "markdown",
      "source": [
        "Load data, extract features and labels, then split into train and test sets."
      ],
      "metadata": {
        "id": "AVaPrZaUXu8t"
      }
    },
    {
      "cell_type": "code",
      "source": [
        "# Load the dataset from a public URL\n",
        "url = 'https://raw.githubusercontent.com/jbrownlee/Datasets/master/pima-indians-diabetes.data.csv'\n",
        "column_names = ['Pregnancies', 'Glucose', 'BloodPressure', 'SkinThickness', 'Insulin', 'BMI', 'DiabetesPedigreeFunction', 'Age', 'Outcome']\n",
        "data = pd.read_csv(url, names=column_names)\n",
        "\n",
        "# Separating features and target variable\n",
        "X = data.iloc[:, :-1].values\n",
        "y = data.iloc[:, -1].values\n",
        "\n",
        "# Split the dataset into training and test sets\n",
        "X_train, X_test, y_train, y_test = train_test_split(X, y, test_size=0.2, random_state=42)\n",
        "\n",
        "# Feature scaling\n",
        "scaler = StandardScaler()\n",
        "X_train = scaler.fit_transform(X_train)\n",
        "X_test = scaler.transform(X_test)"
      ],
      "metadata": {
        "id": "A-GAeHOlXu80"
      },
      "execution_count": null,
      "outputs": []
    },
    {
      "cell_type": "code",
      "source": [
        "def nn_decision_tree(x, cut_points_list, leaf_score, temperature=0.1):\n",
        "    # Ensure x is a 2D tensor\n",
        "    if len(x.get_shape()) != 2:\n",
        "        raise ValueError(\"Input x must be a 2D tensor\")\n",
        "\n",
        "    # Process each feature\n",
        "    leaf = reduce(tf_kron_prod,\n",
        "                  map(lambda z: tf_bin(tf1.reshape(x[:, z[0]:z[0] + 1], [-1, 1]), z[1], temperature),\n",
        "                      enumerate(cut_points_list)))\n",
        "    return tf1.matmul(leaf, leaf_score)\n",
        "\n",
        "accuracies_pima = []\n",
        "for i in range(1, 11):\n",
        "  sess = tf1.InteractiveSession()\n",
        "\n",
        "  # Load the Pima Indians Diabetes dataset\n",
        "  url = \"https://raw.githubusercontent.com/jbrownlee/Datasets/master/pima-indians-diabetes.data.csv\"\n",
        "  column_names = ['Pregnancies', 'Glucose', 'BloodPressure', 'SkinThickness', 'Insulin', 'BMI', 'DiabetesPedigreeFunction', 'Age', 'Outcome']\n",
        "  pima_data = pd.read_csv(url, names=column_names)\n",
        "\n",
        "  # Separate features and target variable\n",
        "  X = pima_data.drop('Outcome', axis=1).values  # Assuming 'Outcome' is the target column\n",
        "  y = pima_data['Outcome'].values\n",
        "\n",
        "  # Normalize features\n",
        "  scaler = StandardScaler()\n",
        "  X_scaled = scaler.fit_transform(X)\n",
        "\n",
        "  # Split the data into training and testing sets\n",
        "  X_train, X_test, y_train, y_test = train_test_split(X_scaled, y, test_size=0.2, random_state=42)\n",
        "\n",
        "  # Set random seeds for reproducibility\n",
        "  np.random.seed(1943)\n",
        "  tf1.set_random_seed(1943)\n",
        "\n",
        "  # Define placeholders for input and output\n",
        "  num_features = X_train.shape[1]\n",
        "  x_ph = tf1.placeholder(tf1.float32, [None, num_features])\n",
        "  y_ph = tf1.placeholder(tf1.float32, [None])\n",
        "\n",
        "  # Define DNDT hyperparameters\n",
        "  num_cut = [1] * num_features  # Adjust as needed\n",
        "  num_classes = 2  # Binary classification\n",
        "\n",
        "  # Define variables for cut points and leaf scores\n",
        "  cut_points_list = [tf1.Variable(tf1.random_uniform([i])) for i in num_cut]\n",
        "  num_leaf = np.prod(np.array(num_cut) + 1)\n",
        "  leaf_score = tf1.Variable(tf1.random_uniform([num_leaf, num_classes]))\n",
        "\n",
        "  # Build the DNDT model (use the nn_decision_tree function from your original code)\n",
        "  y_pred = nn_decision_tree(x_ph, cut_points_list, leaf_score, temperature=0.1)\n",
        "\n",
        "  # Define loss and optimizer\n",
        "  loss = tf1.reduce_mean(tf1.losses.sparse_softmax_cross_entropy(labels=tf1.cast(y_ph, dtype=tf1.int32), logits=y_pred))\n",
        "  opt = tf1.train.AdamOptimizer(0.1)\n",
        "  train_step = opt.minimize(loss)\n",
        "\n",
        "  # Initialize variables\n",
        "  sess.run(tf1.global_variables_initializer())\n",
        "\n",
        "  # Train the model\n",
        "  for i in range(1000):\n",
        "      _, loss_val = sess.run([train_step, loss], feed_dict={x_ph: X_train, y_ph: y_train})\n",
        "      if i % 100 == 0 and False:\n",
        "          print(\"Loss at step {}: {:.4f}\".format(i, loss_val))\n",
        "\n",
        "  # Evaluate the model\n",
        "  accuracy = tf1.reduce_mean(tf1.cast(tf1.equal(tf1.argmax(y_pred, 1), tf1.cast(y_ph, dtype=tf1.int64)), tf1.float32))\n",
        "  test_accuracy = sess.run(accuracy, feed_dict={x_ph: X_test, y_ph: y_test})\n",
        "  accuracies_pima.append(round(test_accuracy, 2))\n",
        "\n",
        "  sess.close()"
      ],
      "metadata": {
        "id": "udHdNhtpXyNE"
      },
      "execution_count": null,
      "outputs": []
    },
    {
      "cell_type": "code",
      "source": [
        "show_graph(accuracies_pima, 'Pima Dataset', 'green')"
      ],
      "metadata": {
        "colab": {
          "base_uri": "https://localhost:8080/",
          "height": 471
        },
        "id": "o5tlKx82cgW3",
        "outputId": "19b05747-e0b8-4ca2-9146-62fb4b8c5a22"
      },
      "execution_count": null,
      "outputs": [
        {
          "output_type": "display_data",
          "data": {
            "text/plain": [
              "<Figure size 640x480 with 1 Axes>"
            ],
            "image/png": "[encoded data removed]"
          },
          "metadata": {}
        }
      ]
    },
    {
      "cell_type": "markdown",
      "source": [
        "## Dataset 3: Iris"
      ],
      "metadata": {
        "id": "GeKqOjkIXg5h"
      }
    },
    {
      "cell_type": "markdown",
      "source": [
        "Load data, extract features and labels, then split into train and test sets."
      ],
      "metadata": {
        "id": "R16T3TMZYTsD"
      }
    },
    {
      "cell_type": "code",
      "source": [
        "# Load the Iris dataset\n",
        "iris = load_iris()\n",
        "X = iris.data\n",
        "y = iris.target\n",
        "\n",
        "# Split the dataset into training and test sets\n",
        "X_train, X_test, y_train, y_test = train_test_split(X, y, test_size=0.2, random_state=42)\n",
        "\n",
        "# Feature scaling\n",
        "scaler = StandardScaler()\n",
        "X_train = scaler.fit_transform(X_train)\n",
        "X_test = scaler.transform(X_test)"
      ],
      "metadata": {
        "id": "XX8IYQXyYTsM"
      },
      "execution_count": null,
      "outputs": []
    },
    {
      "cell_type": "code",
      "source": [
        "accuracies_iris = []\n",
        "for i in range(1, 11):\n",
        "  sess = tf1.InteractiveSession()\n",
        "\n",
        "  # Load the Iris dataset\n",
        "  iris_url = 'https://archive.ics.uci.edu/ml/machine-learning-databases/iris/iris.data'\n",
        "  iris_columns = ['sepal_length', 'sepal_width', 'petal_length', 'petal_width', 'species']\n",
        "  iris_data = pd.read_csv(iris_url, names=iris_columns)\n",
        "\n",
        "  # Encode the 'species' column to integers\n",
        "  label_encoder = LabelEncoder()\n",
        "  iris_data['species'] = label_encoder.fit_transform(iris_data['species'])\n",
        "\n",
        "  # Separate features and target variable\n",
        "  X = iris_data.drop('species', axis=1).values\n",
        "  y = iris_data['species'].values\n",
        "\n",
        "  # Normalize features\n",
        "  scaler = StandardScaler()\n",
        "  X_scaled = scaler.fit_transform(X)\n",
        "\n",
        "  # Split the data into training and testing sets\n",
        "  X_train, X_test, y_train, y_test = train_test_split(X_scaled, y, test_size=0.2, random_state=42)\n",
        "\n",
        "  # Set random seeds for reproducibility\n",
        "  np.random.seed(1943)\n",
        "  tf1.set_random_seed(1943)\n",
        "\n",
        "  # Define placeholders for input and output\n",
        "  num_features = X_train.shape[1]\n",
        "  x_ph = tf1.placeholder(tf1.float32, [None, num_features])\n",
        "  y_ph = tf1.placeholder(tf1.int32, [None])\n",
        "\n",
        "  # Define DNDT hyperparameters\n",
        "  num_cut = [1] * num_features  # Adjust as needed\n",
        "  num_classes = 3  # There are three classes in the Iris dataset\n",
        "\n",
        "  # Define variables for cut points and leaf scores\n",
        "  cut_points_list = [tf1.Variable(tf1.random_uniform([i])) for i in num_cut]\n",
        "  num_leaf = np.prod(np.array(num_cut) + 1)\n",
        "  leaf_score = tf1.Variable(tf1.random_uniform([num_leaf, num_classes]))\n",
        "\n",
        "  # Build the DNDT model (use the nn_decision_tree function from your original code)\n",
        "  y_pred = nn_decision_tree(x_ph, cut_points_list, leaf_score, temperature=0.1)\n",
        "\n",
        "  # Define loss and optimizer\n",
        "  loss = tf1.reduce_mean(tf1.losses.sparse_softmax_cross_entropy(labels=y_ph, logits=y_pred))\n",
        "  opt = tf1.train.AdamOptimizer(0.1)\n",
        "  train_step = opt.minimize(loss)\n",
        "\n",
        "  # Initialize variables\n",
        "  sess.run(tf1.global_variables_initializer())\n",
        "\n",
        "  # Train the model\n",
        "  for i in range(1000):\n",
        "      _, loss_val = sess.run([train_step, loss], feed_dict={x_ph: X_train, y_ph: y_train})\n",
        "      if i % 100 == 0 and False:\n",
        "          print(\"Loss at step {}: {:.4f}\".format(i, loss_val))\n",
        "\n",
        "  # Evaluate the model\n",
        "  accuracy = tf1.reduce_mean(tf1.cast(tf1.equal(tf1.argmax(y_pred, 1), tf1.cast(y_ph, tf1.int64)), tf1.float32))\n",
        "  test_accuracy = sess.run(accuracy, feed_dict={x_ph: X_test, y_ph: y_test})\n",
        "  accuracies_iris.append(round(test_accuracy, 2))\n",
        "\n",
        "  sess.close()"
      ],
      "metadata": {
        "id": "hn1345KgYUTH"
      },
      "execution_count": null,
      "outputs": []
    },
    {
      "cell_type": "code",
      "source": [
        "show_graph(accuracies_iris, 'Iris Dataset', 'blue')"
      ],
      "metadata": {
        "colab": {
          "base_uri": "https://localhost:8080/",
          "height": 471
        },
        "id": "09OvAU2Tc57R",
        "outputId": "2213d468-82ec-44e2-8312-993799b544d3"
      },
      "execution_count": null,
      "outputs": [
        {
          "output_type": "display_data",
          "data": {
            "text/plain": [
              "<Figure size 640x480 with 1 Axes>"
            ],
            "image/png": "[encoded data removed]"
          },
          "metadata": {}
        }
      ]
    },
    {
      "cell_type": "markdown",
      "source": [
        "## Dataset 4: Car Evaluation"
      ],
      "metadata": {
        "id": "jrjINdQHXjPw"
      }
    },
    {
      "cell_type": "markdown",
      "source": [
        "Load data, extract features and labels, then split into train and test sets."
      ],
      "metadata": {
        "id": "Z7oBtfp2aY6f"
      }
    },
    {
      "cell_type": "code",
      "source": [
        "# Load the Car Evaluation dataset\n",
        "url = 'https://archive.ics.uci.edu/ml/machine-learning-databases/car/car.data'\n",
        "column_names = ['buying', 'maint', 'doors', 'persons', 'lug_boot', 'safety', 'class']\n",
        "data = pd.read_csv(url, names=column_names)\n",
        "\n",
        "# Encode categorical variables\n",
        "categorical_features = ['buying', 'maint', 'doors', 'persons', 'lug_boot', 'safety']\n",
        "one_hot_encoder = ColumnTransformer(transformers=[\n",
        "    ('cat', OneHotEncoder(), categorical_features)\n",
        "], remainder='passthrough')\n",
        "\n",
        "X = one_hot_encoder.fit_transform(data.iloc[:, :-1])\n",
        "y = pd.factorize(data['class'])[0]\n",
        "\n",
        "# Split the dataset into training and test sets\n",
        "X_train, X_test, y_train, y_test = train_test_split(X, y, test_size=0.2, random_state=42)\n",
        "\n",
        "# Note: Scaling is not necessary for tree-based models and neural networks can be quite robust to unscaled data"
      ],
      "metadata": {
        "id": "OhTEqyQ4aY6m"
      },
      "execution_count": null,
      "outputs": []
    },
    {
      "cell_type": "code",
      "source": [
        "#DNDT .... Caution run with high ram and good gpu\n",
        "accuracies_car = []\n",
        "for i in range(1, 11):\n",
        "  sess = tf1.InteractiveSession()\n",
        "\n",
        "  # Load the Car Evaluation dataset\n",
        "  url = 'https://archive.ics.uci.edu/ml/machine-learning-databases/car/car.data'\n",
        "  column_names = ['buying', 'maint', 'doors', 'persons', 'lug_boot', 'safety', 'class']\n",
        "  car_data = pd.read_csv(url, names=column_names)\n",
        "\n",
        "  # Handle categorical features (convert them to numerical format)\n",
        "  # One-hot encode the categorical features\n",
        "  encoder = OneHotEncoder()\n",
        "  X_encoded = encoder.fit_transform(car_data.drop('class', axis=1)).toarray()\n",
        "\n",
        "  # One-hot encode the target variable\n",
        "  y_encoded = pd.get_dummies(car_data['class']).values\n",
        "\n",
        "  # Normalize features\n",
        "  scaler = StandardScaler()\n",
        "  X_scaled = scaler.fit_transform(X_encoded)\n",
        "\n",
        "  # Split the data into training and testing sets\n",
        "  X_train, X_test, y_train, y_test = train_test_split(X_scaled, y_encoded, test_size=0.2, random_state=42)\n",
        "\n",
        "  # Set random seeds for reproducibility\n",
        "  np.random.seed(1943)\n",
        "  tf1.set_random_seed(1943)\n",
        "\n",
        "  # Define placeholders for input and output\n",
        "  num_features = X_train.shape[1]\n",
        "  x_ph = tf1.placeholder(tf1.float32, [None, num_features])\n",
        "  y_ph = tf1.placeholder(tf1.float32, [None, 4])  # 4 classes in the target variable\n",
        "\n",
        "  # Define DNDT hyperparameters\n",
        "  num_cut = [1] * num_features  # Adjust as needed\n",
        "  num_classes = 4  # There are four classes in the Car Evaluation dataset\n",
        "\n",
        "  # Define variables for cut points and leaf scores\n",
        "  cut_points_list = [tf1.Variable(tf1.random_uniform([i])) for i in num_cut]\n",
        "  num_leaf = np.prod(np.array(num_cut) + 1)\n",
        "  leaf_score = tf1.Variable(tf1.random_uniform([num_leaf, num_classes]))\n",
        "\n",
        "  # Build the DNDT model\n",
        "  y_pred = nn_decision_tree(x_ph, cut_points_list, leaf_score, temperature=0.1)\n",
        "\n",
        "  # Define loss and optimizer\n",
        "  loss = tf1.reduce_mean(tf1.nn.softmax_cross_entropy_with_logits_v2(labels=y_ph, logits=y_pred))\n",
        "  opt = tf1.train.AdamOptimizer(0.1)\n",
        "  train_step = opt.minimize(loss)\n",
        "\n",
        "  # Initialize variables\n",
        "  sess.run(tf1.global_variables_initializer())\n",
        "\n",
        "  batch_size = 100  # Choose a batch size that fits your memory\n",
        "  num_batches = int(np.ceil(X_train.shape[0] / batch_size))\n",
        "\n",
        "  for i in range(1000):\n",
        "      for batch in range(num_batches):\n",
        "          batch_start = batch * batch_size\n",
        "          batch_end = min(batch_start + batch_size, X_train.shape[0])\n",
        "          X_batch = X_train[batch_start:batch_end]\n",
        "          y_batch = y_train[batch_start:batch_end]\n",
        "          _, loss_val = sess.run([train_step, loss], feed_dict={x_ph: X_batch, y_ph: y_batch})\n",
        "      if i % 100 == 0 and False:\n",
        "          print(\"Loss at step {}: {:.4f}\".format(i, loss_val))\n",
        "\n",
        "  # Evaluate the model\n",
        "  correct_prediction = tf1.equal(tf1.argmax(y_pred, 1), tf1.argmax(y_ph, 1))\n",
        "  accuracy = tf1.reduce_mean(tf1.cast(correct_prediction, tf1.float32))\n",
        "  test_accuracy = sess.run(accuracy, feed_dict={x_ph: X_test, y_ph: y_test})\n",
        "  accuracies_car.append(round(test_accuracy, 2))\n",
        "  print(\"Test accuracy: {:.4f}\".format(test_accuracy))\n",
        "\n",
        "  sess.close()"
      ],
      "metadata": {
        "id": "07T2T6WSaSkQ"
      },
      "execution_count": null,
      "outputs": []
    },
    {
      "cell_type": "code",
      "source": [
        "show_graph(accuracies_car, \"Car Evaluation Dataset\", \"red\")"
      ],
      "metadata": {
        "id": "xWzgxakadGnx",
        "colab": {
          "base_uri": "https://localhost:8080/",
          "height": 472
        },
        "outputId": "e1648371-cd41-46b1-a2ec-799545113249"
      },
      "execution_count": null,
      "outputs": [
        {
          "output_type": "display_data",
          "data": {
            "text/plain": [
              "<Figure size 640x480 with 1 Axes>"
            ],
            "image/png": "[encoded data removed]"
          },
          "metadata": {}
        }
      ]
    }
  ]
}